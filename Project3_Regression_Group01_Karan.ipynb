{
 "cells": [
  {
   "cell_type": "markdown",
   "metadata": {},
   "source": [
    "### <font color='red'> Project 3 : Buzz Prediction on Twitter\n",
    "\n",
    "Project Description:\n",
    "- Use same datasets as Project 2.\n",
    "- Run all the models only on 10% data. Use code given in Project 2 for sampling.\n",
    "- Preprocess data: Explore data and apply data scaling.\n",
    "\n",
    "Regression Task:\n",
    "- Apply any two models with bagging and any two models with pasting.\n",
    "- Apply any two models with adaboost boosting\n",
    "- Apply one model with gradient boosting\n",
    "- Apply PCA on data and then apply all the models in project 2 again on data you get from PCA. Compare your results with results in project 2. You don't need to apply all the models twice. Just copy the result table from project 2, prepare similar table for all the models after PCA and compare both tables. Does PCA help in getting better results?\n",
    "- Apply deep learning models covered in class\n",
    "\n",
    "Classification Task:\n",
    "- Apply four voting classifiers - two with hard voting and two with soft voting\n",
    "- Apply any two models with bagging and any two models with pasting.\n",
    "- Apply any two models with adaboost boosting\n",
    "- Apply one model with gradient boosting\n",
    "- Apply PCA on data and then apply all the models in project 2 again on data you get from PCA. Compare your results with results in project 2. You don't need to apply all the models twice. Just copy the result table from project 2, prepare similar table for all the models after PCA and compare both tables. Does PCA help in getting better results?\n",
    "- Apply deep learning models covered in class\n",
    "\n",
    "Deliverables:\n",
    "- Use markdown to provide inline comments for this project.\n",
    "- Your outputs should be clearly executed in the notebook i.e. we should not need to rerun the code to obtain the outputs.\n",
    "- Visualization encouraged.\n",
    "- If you are submitting two different files, then please only one group member submit both the files. If you submit two files separately from different accounts, it will be submitted as two different attempts.\n",
    "- If you are submitting two different files, then please follow below naming convetion:\n",
    "    Project3_Regression_GroupXX_Firstname1_Firstname2.ipynb\n",
    "    Project3_Classification_GroupXX_Firstname1_Firstname2.ipynb\n",
    "- If you are submitting single file, then please follow below naming convetion:\n",
    "    Project3_Both_GroupXX_Firstname1_Firstname2.ipynb\n",
    "\n",
    "Questions regarding the project:\n",
    "- We have created a discussion board under Projects folder on e-learning. Create threads over there and post your queries related to project there.\n",
    "- We will also answer queries there. We will not be answering any project related queries through the mail."
   ]
  },
  {
   "cell_type": "code",
   "execution_count": 1,
   "metadata": {},
   "outputs": [],
   "source": [
    "import pandas as pd\n",
    "import numpy as np\n",
    "import matplotlib.pyplot as plt"
   ]
  },
  {
   "cell_type": "code",
   "execution_count": 2,
   "metadata": {},
   "outputs": [],
   "source": [
    "dataFrame = pd.read_table('Twitter.data',sep=',',header=None)"
   ]
  },
  {
   "cell_type": "code",
   "execution_count": 74,
   "metadata": {},
   "outputs": [],
   "source": [
    "# As the dataset is quite large at first I run model on only 10% of it.\n",
    "tenthOfDataFrame = dataFrame.sample(frac=0.01,random_state=0).reset_index().iloc[:,1:]"
   ]
  },
  {
   "cell_type": "code",
   "execution_count": 75,
   "metadata": {},
   "outputs": [
    {
     "data": {
      "text/html": [
       "<div>\n",
       "<style scoped>\n",
       "    .dataframe tbody tr th:only-of-type {\n",
       "        vertical-align: middle;\n",
       "    }\n",
       "\n",
       "    .dataframe tbody tr th {\n",
       "        vertical-align: top;\n",
       "    }\n",
       "\n",
       "    .dataframe thead th {\n",
       "        text-align: right;\n",
       "    }\n",
       "</style>\n",
       "<table border=\"1\" class=\"dataframe\">\n",
       "  <thead>\n",
       "    <tr style=\"text-align: right;\">\n",
       "      <th></th>\n",
       "      <th>0</th>\n",
       "      <th>1</th>\n",
       "      <th>2</th>\n",
       "      <th>3</th>\n",
       "      <th>4</th>\n",
       "      <th>5</th>\n",
       "      <th>6</th>\n",
       "      <th>7</th>\n",
       "      <th>8</th>\n",
       "      <th>9</th>\n",
       "      <th>...</th>\n",
       "      <th>68</th>\n",
       "      <th>69</th>\n",
       "      <th>70</th>\n",
       "      <th>71</th>\n",
       "      <th>72</th>\n",
       "      <th>73</th>\n",
       "      <th>74</th>\n",
       "      <th>75</th>\n",
       "      <th>76</th>\n",
       "      <th>77</th>\n",
       "    </tr>\n",
       "  </thead>\n",
       "  <tbody>\n",
       "    <tr>\n",
       "      <th>count</th>\n",
       "      <td>5832.000000</td>\n",
       "      <td>5832.000000</td>\n",
       "      <td>5832.000000</td>\n",
       "      <td>5832.000000</td>\n",
       "      <td>5832.000000</td>\n",
       "      <td>5832.000000</td>\n",
       "      <td>5832.000000</td>\n",
       "      <td>5832.000000</td>\n",
       "      <td>5832.000000</td>\n",
       "      <td>5832.000000</td>\n",
       "      <td>...</td>\n",
       "      <td>5832.000000</td>\n",
       "      <td>5832.000000</td>\n",
       "      <td>5832.000000</td>\n",
       "      <td>5832.000000</td>\n",
       "      <td>5832.000000</td>\n",
       "      <td>5832.000000</td>\n",
       "      <td>5832.000000</td>\n",
       "      <td>5832.000000</td>\n",
       "      <td>5832.000000</td>\n",
       "      <td>5832.000000</td>\n",
       "    </tr>\n",
       "    <tr>\n",
       "      <th>mean</th>\n",
       "      <td>141.053326</td>\n",
       "      <td>136.002401</td>\n",
       "      <td>162.678841</td>\n",
       "      <td>181.423011</td>\n",
       "      <td>199.789266</td>\n",
       "      <td>221.774348</td>\n",
       "      <td>225.410494</td>\n",
       "      <td>69.183985</td>\n",
       "      <td>67.450789</td>\n",
       "      <td>81.002915</td>\n",
       "      <td>...</td>\n",
       "      <td>1.168386</td>\n",
       "      <td>1.189603</td>\n",
       "      <td>141.483368</td>\n",
       "      <td>136.391461</td>\n",
       "      <td>163.079047</td>\n",
       "      <td>181.836420</td>\n",
       "      <td>200.283951</td>\n",
       "      <td>222.277263</td>\n",
       "      <td>225.946502</td>\n",
       "      <td>196.410922</td>\n",
       "    </tr>\n",
       "    <tr>\n",
       "      <th>std</th>\n",
       "      <td>438.712622</td>\n",
       "      <td>426.153237</td>\n",
       "      <td>533.196749</td>\n",
       "      <td>555.452294</td>\n",
       "      <td>621.896394</td>\n",
       "      <td>666.538367</td>\n",
       "      <td>690.895893</td>\n",
       "      <td>173.178588</td>\n",
       "      <td>168.261770</td>\n",
       "      <td>213.589600</td>\n",
       "      <td>...</td>\n",
       "      <td>3.213424</td>\n",
       "      <td>3.693212</td>\n",
       "      <td>439.262821</td>\n",
       "      <td>426.669316</td>\n",
       "      <td>533.736567</td>\n",
       "      <td>556.036502</td>\n",
       "      <td>622.528389</td>\n",
       "      <td>667.150691</td>\n",
       "      <td>691.582457</td>\n",
       "      <td>660.082745</td>\n",
       "    </tr>\n",
       "    <tr>\n",
       "      <th>min</th>\n",
       "      <td>0.000000</td>\n",
       "      <td>0.000000</td>\n",
       "      <td>0.000000</td>\n",
       "      <td>0.000000</td>\n",
       "      <td>0.000000</td>\n",
       "      <td>0.000000</td>\n",
       "      <td>0.000000</td>\n",
       "      <td>0.000000</td>\n",
       "      <td>0.000000</td>\n",
       "      <td>0.000000</td>\n",
       "      <td>...</td>\n",
       "      <td>0.000000</td>\n",
       "      <td>0.000000</td>\n",
       "      <td>0.000000</td>\n",
       "      <td>0.000000</td>\n",
       "      <td>0.000000</td>\n",
       "      <td>0.000000</td>\n",
       "      <td>0.000000</td>\n",
       "      <td>0.000000</td>\n",
       "      <td>0.000000</td>\n",
       "      <td>0.000000</td>\n",
       "    </tr>\n",
       "    <tr>\n",
       "      <th>25%</th>\n",
       "      <td>3.000000</td>\n",
       "      <td>3.000000</td>\n",
       "      <td>3.000000</td>\n",
       "      <td>4.000000</td>\n",
       "      <td>4.000000</td>\n",
       "      <td>6.000000</td>\n",
       "      <td>6.000000</td>\n",
       "      <td>2.000000</td>\n",
       "      <td>2.000000</td>\n",
       "      <td>2.000000</td>\n",
       "      <td>...</td>\n",
       "      <td>1.000000</td>\n",
       "      <td>1.000000</td>\n",
       "      <td>3.000000</td>\n",
       "      <td>3.000000</td>\n",
       "      <td>3.000000</td>\n",
       "      <td>4.000000</td>\n",
       "      <td>4.000000</td>\n",
       "      <td>6.000000</td>\n",
       "      <td>6.000000</td>\n",
       "      <td>4.500000</td>\n",
       "    </tr>\n",
       "    <tr>\n",
       "      <th>50%</th>\n",
       "      <td>17.000000</td>\n",
       "      <td>16.000000</td>\n",
       "      <td>20.000000</td>\n",
       "      <td>22.000000</td>\n",
       "      <td>26.000000</td>\n",
       "      <td>30.000000</td>\n",
       "      <td>29.000000</td>\n",
       "      <td>11.000000</td>\n",
       "      <td>11.000000</td>\n",
       "      <td>12.000000</td>\n",
       "      <td>...</td>\n",
       "      <td>1.000000</td>\n",
       "      <td>1.000000</td>\n",
       "      <td>18.000000</td>\n",
       "      <td>16.000000</td>\n",
       "      <td>20.000000</td>\n",
       "      <td>23.000000</td>\n",
       "      <td>26.000000</td>\n",
       "      <td>30.000000</td>\n",
       "      <td>29.000000</td>\n",
       "      <td>24.000000</td>\n",
       "    </tr>\n",
       "    <tr>\n",
       "      <th>75%</th>\n",
       "      <td>102.000000</td>\n",
       "      <td>101.000000</td>\n",
       "      <td>114.000000</td>\n",
       "      <td>126.000000</td>\n",
       "      <td>139.000000</td>\n",
       "      <td>163.000000</td>\n",
       "      <td>163.250000</td>\n",
       "      <td>58.000000</td>\n",
       "      <td>57.000000</td>\n",
       "      <td>65.000000</td>\n",
       "      <td>...</td>\n",
       "      <td>1.088235</td>\n",
       "      <td>1.081454</td>\n",
       "      <td>103.000000</td>\n",
       "      <td>101.000000</td>\n",
       "      <td>114.000000</td>\n",
       "      <td>127.000000</td>\n",
       "      <td>140.000000</td>\n",
       "      <td>163.000000</td>\n",
       "      <td>164.250000</td>\n",
       "      <td>134.500000</td>\n",
       "    </tr>\n",
       "    <tr>\n",
       "      <th>max</th>\n",
       "      <td>13713.000000</td>\n",
       "      <td>14108.000000</td>\n",
       "      <td>18643.000000</td>\n",
       "      <td>22077.000000</td>\n",
       "      <td>23557.000000</td>\n",
       "      <td>23099.000000</td>\n",
       "      <td>23424.000000</td>\n",
       "      <td>3849.000000</td>\n",
       "      <td>3343.000000</td>\n",
       "      <td>6431.000000</td>\n",
       "      <td>...</td>\n",
       "      <td>239.000000</td>\n",
       "      <td>272.000000</td>\n",
       "      <td>13713.000000</td>\n",
       "      <td>14108.000000</td>\n",
       "      <td>18644.000000</td>\n",
       "      <td>22078.000000</td>\n",
       "      <td>23564.000000</td>\n",
       "      <td>23103.000000</td>\n",
       "      <td>23430.000000</td>\n",
       "      <td>23929.000000</td>\n",
       "    </tr>\n",
       "  </tbody>\n",
       "</table>\n",
       "<p>8 rows × 78 columns</p>\n",
       "</div>"
      ],
      "text/plain": [
       "                 0             1             2             3             4   \\\n",
       "count   5832.000000   5832.000000   5832.000000   5832.000000   5832.000000   \n",
       "mean     141.053326    136.002401    162.678841    181.423011    199.789266   \n",
       "std      438.712622    426.153237    533.196749    555.452294    621.896394   \n",
       "min        0.000000      0.000000      0.000000      0.000000      0.000000   \n",
       "25%        3.000000      3.000000      3.000000      4.000000      4.000000   \n",
       "50%       17.000000     16.000000     20.000000     22.000000     26.000000   \n",
       "75%      102.000000    101.000000    114.000000    126.000000    139.000000   \n",
       "max    13713.000000  14108.000000  18643.000000  22077.000000  23557.000000   \n",
       "\n",
       "                 5             6            7            8            9   \\\n",
       "count   5832.000000   5832.000000  5832.000000  5832.000000  5832.000000   \n",
       "mean     221.774348    225.410494    69.183985    67.450789    81.002915   \n",
       "std      666.538367    690.895893   173.178588   168.261770   213.589600   \n",
       "min        0.000000      0.000000     0.000000     0.000000     0.000000   \n",
       "25%        6.000000      6.000000     2.000000     2.000000     2.000000   \n",
       "50%       30.000000     29.000000    11.000000    11.000000    12.000000   \n",
       "75%      163.000000    163.250000    58.000000    57.000000    65.000000   \n",
       "max    23099.000000  23424.000000  3849.000000  3343.000000  6431.000000   \n",
       "\n",
       "           ...                68           69            70            71  \\\n",
       "count      ...       5832.000000  5832.000000   5832.000000   5832.000000   \n",
       "mean       ...          1.168386     1.189603    141.483368    136.391461   \n",
       "std        ...          3.213424     3.693212    439.262821    426.669316   \n",
       "min        ...          0.000000     0.000000      0.000000      0.000000   \n",
       "25%        ...          1.000000     1.000000      3.000000      3.000000   \n",
       "50%        ...          1.000000     1.000000     18.000000     16.000000   \n",
       "75%        ...          1.088235     1.081454    103.000000    101.000000   \n",
       "max        ...        239.000000   272.000000  13713.000000  14108.000000   \n",
       "\n",
       "                 72            73            74            75            76  \\\n",
       "count   5832.000000   5832.000000   5832.000000   5832.000000   5832.000000   \n",
       "mean     163.079047    181.836420    200.283951    222.277263    225.946502   \n",
       "std      533.736567    556.036502    622.528389    667.150691    691.582457   \n",
       "min        0.000000      0.000000      0.000000      0.000000      0.000000   \n",
       "25%        3.000000      4.000000      4.000000      6.000000      6.000000   \n",
       "50%       20.000000     23.000000     26.000000     30.000000     29.000000   \n",
       "75%      114.000000    127.000000    140.000000    163.000000    164.250000   \n",
       "max    18644.000000  22078.000000  23564.000000  23103.000000  23430.000000   \n",
       "\n",
       "                 77  \n",
       "count   5832.000000  \n",
       "mean     196.410922  \n",
       "std      660.082745  \n",
       "min        0.000000  \n",
       "25%        4.500000  \n",
       "50%       24.000000  \n",
       "75%      134.500000  \n",
       "max    23929.000000  \n",
       "\n",
       "[8 rows x 78 columns]"
      ]
     },
     "execution_count": 75,
     "metadata": {},
     "output_type": "execute_result"
    }
   ],
   "source": [
    "tenthOfDataFrame.describe()"
   ]
  },
  {
   "cell_type": "code",
   "execution_count": 76,
   "metadata": {},
   "outputs": [
    {
     "data": {
      "text/plain": [
       "(5832, 78)"
      ]
     },
     "execution_count": 76,
     "metadata": {},
     "output_type": "execute_result"
    }
   ],
   "source": [
    "tenthOfDataFrame.shape"
   ]
  },
  {
   "cell_type": "code",
   "execution_count": 77,
   "metadata": {},
   "outputs": [
    {
     "data": {
      "text/html": [
       "<div>\n",
       "<style scoped>\n",
       "    .dataframe tbody tr th:only-of-type {\n",
       "        vertical-align: middle;\n",
       "    }\n",
       "\n",
       "    .dataframe tbody tr th {\n",
       "        vertical-align: top;\n",
       "    }\n",
       "\n",
       "    .dataframe thead th {\n",
       "        text-align: right;\n",
       "    }\n",
       "</style>\n",
       "<table border=\"1\" class=\"dataframe\">\n",
       "  <thead>\n",
       "    <tr style=\"text-align: right;\">\n",
       "      <th></th>\n",
       "      <th>0</th>\n",
       "      <th>1</th>\n",
       "      <th>2</th>\n",
       "      <th>3</th>\n",
       "      <th>4</th>\n",
       "      <th>5</th>\n",
       "      <th>6</th>\n",
       "      <th>7</th>\n",
       "      <th>8</th>\n",
       "      <th>9</th>\n",
       "      <th>...</th>\n",
       "      <th>68</th>\n",
       "      <th>69</th>\n",
       "      <th>70</th>\n",
       "      <th>71</th>\n",
       "      <th>72</th>\n",
       "      <th>73</th>\n",
       "      <th>74</th>\n",
       "      <th>75</th>\n",
       "      <th>76</th>\n",
       "      <th>77</th>\n",
       "    </tr>\n",
       "  </thead>\n",
       "  <tbody>\n",
       "    <tr>\n",
       "      <th>0</th>\n",
       "      <td>0</td>\n",
       "      <td>4</td>\n",
       "      <td>2</td>\n",
       "      <td>0</td>\n",
       "      <td>0</td>\n",
       "      <td>14</td>\n",
       "      <td>3</td>\n",
       "      <td>0</td>\n",
       "      <td>2</td>\n",
       "      <td>1</td>\n",
       "      <td>...</td>\n",
       "      <td>1.000000</td>\n",
       "      <td>1.000000</td>\n",
       "      <td>0</td>\n",
       "      <td>4</td>\n",
       "      <td>2</td>\n",
       "      <td>0</td>\n",
       "      <td>0</td>\n",
       "      <td>14</td>\n",
       "      <td>3</td>\n",
       "      <td>21.5</td>\n",
       "    </tr>\n",
       "    <tr>\n",
       "      <th>1</th>\n",
       "      <td>12</td>\n",
       "      <td>14</td>\n",
       "      <td>12</td>\n",
       "      <td>15</td>\n",
       "      <td>37</td>\n",
       "      <td>36</td>\n",
       "      <td>43</td>\n",
       "      <td>9</td>\n",
       "      <td>8</td>\n",
       "      <td>3</td>\n",
       "      <td>...</td>\n",
       "      <td>1.055556</td>\n",
       "      <td>1.023256</td>\n",
       "      <td>12</td>\n",
       "      <td>14</td>\n",
       "      <td>12</td>\n",
       "      <td>15</td>\n",
       "      <td>37</td>\n",
       "      <td>36</td>\n",
       "      <td>43</td>\n",
       "      <td>37.0</td>\n",
       "    </tr>\n",
       "    <tr>\n",
       "      <th>2</th>\n",
       "      <td>111</td>\n",
       "      <td>123</td>\n",
       "      <td>172</td>\n",
       "      <td>106</td>\n",
       "      <td>198</td>\n",
       "      <td>312</td>\n",
       "      <td>130</td>\n",
       "      <td>63</td>\n",
       "      <td>53</td>\n",
       "      <td>109</td>\n",
       "      <td>...</td>\n",
       "      <td>1.003205</td>\n",
       "      <td>1.000000</td>\n",
       "      <td>111</td>\n",
       "      <td>123</td>\n",
       "      <td>172</td>\n",
       "      <td>107</td>\n",
       "      <td>201</td>\n",
       "      <td>312</td>\n",
       "      <td>130</td>\n",
       "      <td>119.0</td>\n",
       "    </tr>\n",
       "    <tr>\n",
       "      <th>3</th>\n",
       "      <td>23</td>\n",
       "      <td>12</td>\n",
       "      <td>23</td>\n",
       "      <td>20</td>\n",
       "      <td>23</td>\n",
       "      <td>39</td>\n",
       "      <td>33</td>\n",
       "      <td>18</td>\n",
       "      <td>12</td>\n",
       "      <td>19</td>\n",
       "      <td>...</td>\n",
       "      <td>1.025641</td>\n",
       "      <td>1.000000</td>\n",
       "      <td>24</td>\n",
       "      <td>12</td>\n",
       "      <td>23</td>\n",
       "      <td>20</td>\n",
       "      <td>23</td>\n",
       "      <td>39</td>\n",
       "      <td>33</td>\n",
       "      <td>32.5</td>\n",
       "    </tr>\n",
       "    <tr>\n",
       "      <th>4</th>\n",
       "      <td>13</td>\n",
       "      <td>108</td>\n",
       "      <td>35</td>\n",
       "      <td>43</td>\n",
       "      <td>19</td>\n",
       "      <td>63</td>\n",
       "      <td>66</td>\n",
       "      <td>11</td>\n",
       "      <td>81</td>\n",
       "      <td>25</td>\n",
       "      <td>...</td>\n",
       "      <td>1.000000</td>\n",
       "      <td>1.000000</td>\n",
       "      <td>13</td>\n",
       "      <td>108</td>\n",
       "      <td>35</td>\n",
       "      <td>43</td>\n",
       "      <td>19</td>\n",
       "      <td>63</td>\n",
       "      <td>66</td>\n",
       "      <td>38.0</td>\n",
       "    </tr>\n",
       "    <tr>\n",
       "      <th>5</th>\n",
       "      <td>55</td>\n",
       "      <td>83</td>\n",
       "      <td>76</td>\n",
       "      <td>62</td>\n",
       "      <td>56</td>\n",
       "      <td>92</td>\n",
       "      <td>85</td>\n",
       "      <td>34</td>\n",
       "      <td>64</td>\n",
       "      <td>51</td>\n",
       "      <td>...</td>\n",
       "      <td>1.000000</td>\n",
       "      <td>1.011765</td>\n",
       "      <td>55</td>\n",
       "      <td>83</td>\n",
       "      <td>77</td>\n",
       "      <td>62</td>\n",
       "      <td>56</td>\n",
       "      <td>92</td>\n",
       "      <td>85</td>\n",
       "      <td>92.0</td>\n",
       "    </tr>\n",
       "    <tr>\n",
       "      <th>6</th>\n",
       "      <td>488</td>\n",
       "      <td>539</td>\n",
       "      <td>735</td>\n",
       "      <td>621</td>\n",
       "      <td>646</td>\n",
       "      <td>779</td>\n",
       "      <td>496</td>\n",
       "      <td>348</td>\n",
       "      <td>364</td>\n",
       "      <td>448</td>\n",
       "      <td>...</td>\n",
       "      <td>1.057766</td>\n",
       "      <td>1.074297</td>\n",
       "      <td>490</td>\n",
       "      <td>540</td>\n",
       "      <td>738</td>\n",
       "      <td>621</td>\n",
       "      <td>647</td>\n",
       "      <td>779</td>\n",
       "      <td>498</td>\n",
       "      <td>755.0</td>\n",
       "    </tr>\n",
       "    <tr>\n",
       "      <th>7</th>\n",
       "      <td>1</td>\n",
       "      <td>4</td>\n",
       "      <td>7</td>\n",
       "      <td>7</td>\n",
       "      <td>9</td>\n",
       "      <td>3</td>\n",
       "      <td>13</td>\n",
       "      <td>1</td>\n",
       "      <td>1</td>\n",
       "      <td>6</td>\n",
       "      <td>...</td>\n",
       "      <td>1.000000</td>\n",
       "      <td>1.000000</td>\n",
       "      <td>1</td>\n",
       "      <td>4</td>\n",
       "      <td>7</td>\n",
       "      <td>7</td>\n",
       "      <td>9</td>\n",
       "      <td>3</td>\n",
       "      <td>13</td>\n",
       "      <td>3.0</td>\n",
       "    </tr>\n",
       "    <tr>\n",
       "      <th>8</th>\n",
       "      <td>6</td>\n",
       "      <td>4</td>\n",
       "      <td>4</td>\n",
       "      <td>7</td>\n",
       "      <td>7</td>\n",
       "      <td>8</td>\n",
       "      <td>7</td>\n",
       "      <td>5</td>\n",
       "      <td>2</td>\n",
       "      <td>4</td>\n",
       "      <td>...</td>\n",
       "      <td>1.000000</td>\n",
       "      <td>1.142857</td>\n",
       "      <td>6</td>\n",
       "      <td>4</td>\n",
       "      <td>4</td>\n",
       "      <td>7</td>\n",
       "      <td>7</td>\n",
       "      <td>8</td>\n",
       "      <td>7</td>\n",
       "      <td>4.5</td>\n",
       "    </tr>\n",
       "    <tr>\n",
       "      <th>9</th>\n",
       "      <td>1</td>\n",
       "      <td>6</td>\n",
       "      <td>8</td>\n",
       "      <td>4</td>\n",
       "      <td>5</td>\n",
       "      <td>8</td>\n",
       "      <td>5</td>\n",
       "      <td>0</td>\n",
       "      <td>2</td>\n",
       "      <td>1</td>\n",
       "      <td>...</td>\n",
       "      <td>1.000000</td>\n",
       "      <td>1.000000</td>\n",
       "      <td>1</td>\n",
       "      <td>6</td>\n",
       "      <td>8</td>\n",
       "      <td>4</td>\n",
       "      <td>5</td>\n",
       "      <td>8</td>\n",
       "      <td>5</td>\n",
       "      <td>4.5</td>\n",
       "    </tr>\n",
       "  </tbody>\n",
       "</table>\n",
       "<p>10 rows × 78 columns</p>\n",
       "</div>"
      ],
      "text/plain": [
       "    0    1    2    3    4    5    6    7    8    9   ...          68  \\\n",
       "0    0    4    2    0    0   14    3    0    2    1  ...    1.000000   \n",
       "1   12   14   12   15   37   36   43    9    8    3  ...    1.055556   \n",
       "2  111  123  172  106  198  312  130   63   53  109  ...    1.003205   \n",
       "3   23   12   23   20   23   39   33   18   12   19  ...    1.025641   \n",
       "4   13  108   35   43   19   63   66   11   81   25  ...    1.000000   \n",
       "5   55   83   76   62   56   92   85   34   64   51  ...    1.000000   \n",
       "6  488  539  735  621  646  779  496  348  364  448  ...    1.057766   \n",
       "7    1    4    7    7    9    3   13    1    1    6  ...    1.000000   \n",
       "8    6    4    4    7    7    8    7    5    2    4  ...    1.000000   \n",
       "9    1    6    8    4    5    8    5    0    2    1  ...    1.000000   \n",
       "\n",
       "         69   70   71   72   73   74   75   76     77  \n",
       "0  1.000000    0    4    2    0    0   14    3   21.5  \n",
       "1  1.023256   12   14   12   15   37   36   43   37.0  \n",
       "2  1.000000  111  123  172  107  201  312  130  119.0  \n",
       "3  1.000000   24   12   23   20   23   39   33   32.5  \n",
       "4  1.000000   13  108   35   43   19   63   66   38.0  \n",
       "5  1.011765   55   83   77   62   56   92   85   92.0  \n",
       "6  1.074297  490  540  738  621  647  779  498  755.0  \n",
       "7  1.000000    1    4    7    7    9    3   13    3.0  \n",
       "8  1.142857    6    4    4    7    7    8    7    4.5  \n",
       "9  1.000000    1    6    8    4    5    8    5    4.5  \n",
       "\n",
       "[10 rows x 78 columns]"
      ]
     },
     "execution_count": 77,
     "metadata": {},
     "output_type": "execute_result"
    }
   ],
   "source": [
    "tenthOfDataFrame.head(10)"
   ]
  },
  {
   "cell_type": "code",
   "execution_count": 78,
   "metadata": {},
   "outputs": [],
   "source": [
    "import warnings\n",
    "from sklearn.preprocessing import StandardScaler\n",
    "from sklearn.model_selection import train_test_split\n",
    "warnings.filterwarnings('ignore')"
   ]
  },
  {
   "cell_type": "code",
   "execution_count": 79,
   "metadata": {},
   "outputs": [],
   "source": [
    "X = tenthOfDataFrame.iloc[:,:77]\n",
    "y = tenthOfDataFrame.iloc[:,77]"
   ]
  },
  {
   "cell_type": "code",
   "execution_count": 80,
   "metadata": {},
   "outputs": [],
   "source": [
    "X_train, X_test, y_train, y_test = train_test_split(X, y, random_state=0)\n",
    "scaler = StandardScaler()\n",
    "X_train = scaler.fit_transform(X_train)\n",
    "X_test = scaler.transform(X_test)"
   ]
  },
  {
   "cell_type": "markdown",
   "metadata": {},
   "source": [
    "# Decision Tree Regressor with Adaboost Boosting"
   ]
  },
  {
   "cell_type": "code",
   "execution_count": 10,
   "metadata": {},
   "outputs": [],
   "source": [
    "from sklearn.ensemble import AdaBoostRegressor\n",
    "from sklearn.tree import DecisionTreeRegressor"
   ]
  },
  {
   "cell_type": "code",
   "execution_count": 11,
   "metadata": {},
   "outputs": [
    {
     "data": {
      "text/plain": [
       "AdaBoostRegressor(base_estimator=DecisionTreeRegressor(criterion='mse', max_depth=5, max_features='sqrt',\n",
       "           max_leaf_nodes=None, min_impurity_decrease=0.0,\n",
       "           min_impurity_split=None, min_samples_leaf=1,\n",
       "           min_samples_split=3, min_weight_fraction_leaf=0.0,\n",
       "           presort=False, random_state=None, splitter='random'),\n",
       "         learning_rate=0.05, loss='square', n_estimators=2000,\n",
       "         random_state=None)"
      ]
     },
     "execution_count": 11,
     "metadata": {},
     "output_type": "execute_result"
    }
   ],
   "source": [
    "decisionTreeRegressor = DecisionTreeRegressor(max_features='sqrt', splitter='random', min_samples_split=3, max_depth=5)\n",
    "adaboostRegressor = AdaBoostRegressor(decisionTreeRegressor, learning_rate=0.05, loss='square', n_estimators = 2000)\n",
    "adaboostRegressor.fit(X_train, y_train)"
   ]
  },
  {
   "cell_type": "code",
   "execution_count": 12,
   "metadata": {},
   "outputs": [],
   "source": [
    "adaboostTrainScore = adaboostRegressor.score(X_train,y_train)\n",
    "adaboostTestScore = adaboostRegressor.score(X_test,y_test)"
   ]
  },
  {
   "cell_type": "code",
   "execution_count": 13,
   "metadata": {},
   "outputs": [
    {
     "data": {
      "text/html": [
       "<div>\n",
       "<style scoped>\n",
       "    .dataframe tbody tr th:only-of-type {\n",
       "        vertical-align: middle;\n",
       "    }\n",
       "\n",
       "    .dataframe tbody tr th {\n",
       "        vertical-align: top;\n",
       "    }\n",
       "\n",
       "    .dataframe thead th {\n",
       "        text-align: right;\n",
       "    }\n",
       "</style>\n",
       "<table border=\"1\" class=\"dataframe\">\n",
       "  <thead>\n",
       "    <tr style=\"text-align: right;\">\n",
       "      <th></th>\n",
       "      <th>Model</th>\n",
       "      <th>Parameter</th>\n",
       "      <th>Train Score</th>\n",
       "      <th>Test Score</th>\n",
       "    </tr>\n",
       "  </thead>\n",
       "  <tbody>\n",
       "    <tr>\n",
       "      <th>0</th>\n",
       "      <td>Decision Tree Regressor with Adaboost Boosting</td>\n",
       "      <td>[DecisionTreeRegressor(criterion='mse', max_de...</td>\n",
       "      <td>0.900095</td>\n",
       "      <td>0.715332</td>\n",
       "    </tr>\n",
       "  </tbody>\n",
       "</table>\n",
       "</div>"
      ],
      "text/plain": [
       "                                            Model  \\\n",
       "0  Decision Tree Regressor with Adaboost Boosting   \n",
       "\n",
       "                                           Parameter  Train Score  Test Score  \n",
       "0  [DecisionTreeRegressor(criterion='mse', max_de...     0.900095    0.715332  "
      ]
     },
     "execution_count": 13,
     "metadata": {},
     "output_type": "execute_result"
    }
   ],
   "source": [
    "adaboostReport= [['Decision Tree Regressor with Adaboost Boosting',adaboostRegressor.estimators_,adaboostTrainScore,adaboostTestScore]]\n",
    "columnNames = ['Model','Parameter','Train Score','Test Score']\n",
    "pd.DataFrame(adaboostReport,columns=columnNames)"
   ]
  },
  {
   "cell_type": "markdown",
   "metadata": {},
   "source": [
    "# Random Forest Regressor - Adaboosting Boosting "
   ]
  },
  {
   "cell_type": "code",
   "execution_count": 61,
   "metadata": {},
   "outputs": [],
   "source": [
    "from sklearn.ensemble import AdaBoostRegressor\n",
    "from sklearn.ensemble import RandomForestRegressor"
   ]
  },
  {
   "cell_type": "code",
   "execution_count": 62,
   "metadata": {},
   "outputs": [
    {
     "data": {
      "text/plain": [
       "AdaBoostRegressor(base_estimator=RandomForestRegressor(bootstrap=True, criterion='mse', max_depth=None,\n",
       "           max_features=4, max_leaf_nodes=None, min_impurity_decrease=0.0,\n",
       "           min_impurity_split=None, min_samples_leaf=3,\n",
       "           min_samples_split=4, min_weight_fraction_leaf=0.0,\n",
       "           n_estimators=75, n_jobs=None, oob_score=False,\n",
       "           random_state=None, verbose=0, warm_start=False),\n",
       "         learning_rate=0.05, loss='square', n_estimators=2000,\n",
       "         random_state=None)"
      ]
     },
     "execution_count": 62,
     "metadata": {},
     "output_type": "execute_result"
    }
   ],
   "source": [
    "randomForestRegressor = RandomForestRegressor(max_features=4, min_samples_split=4, n_estimators=75, min_samples_leaf=3)\n",
    "randomAdaboost = AdaBoostRegressor(randomForestRegressor, learning_rate=0.05, loss='square', n_estimators=2000)\n",
    "randomAdaboost.fit(X_train, y_train)"
   ]
  },
  {
   "cell_type": "code",
   "execution_count": 63,
   "metadata": {},
   "outputs": [],
   "source": [
    "randomAdaboostTrainScore = randomAdaboost.score(X_train,y_train)\n",
    "randomAdaboostTestScore = randomAdaboost.score(X_test,y_test)"
   ]
  },
  {
   "cell_type": "markdown",
   "metadata": {},
   "source": [
    "# Gradient Boosting Regressor"
   ]
  },
  {
   "cell_type": "code",
   "execution_count": 16,
   "metadata": {
    "scrolled": true
   },
   "outputs": [],
   "source": [
    "from  sklearn.ensemble import GradientBoostingRegressor\n",
    "from sklearn.model_selection import GridSearchCV"
   ]
  },
  {
   "cell_type": "code",
   "execution_count": 17,
   "metadata": {},
   "outputs": [
    {
     "data": {
      "text/plain": [
       "GridSearchCV(cv=5, error_score='raise-deprecating',\n",
       "       estimator=GradientBoostingRegressor(alpha=0.9, criterion='friedman_mse', init=None,\n",
       "             learning_rate=0.1, loss='ls', max_depth=3, max_features=None,\n",
       "             max_leaf_nodes=None, min_impurity_decrease=0.0,\n",
       "             min_impurity_split=None, min_samples_leaf=1,\n",
       "             min_sampl...=None, subsample=1.0, tol=0.0001,\n",
       "             validation_fraction=0.1, verbose=0, warm_start=False),\n",
       "       fit_params=None, iid='warn', n_jobs=None,\n",
       "       param_grid={'n_estimators': range(4, 8), 'max_depth': range(2, 5), 'learning_rate': [0.1, 0.05, 0.02], 'random_state': [1]},\n",
       "       pre_dispatch='2*n_jobs', refit=True, return_train_score=True,\n",
       "       scoring=None, verbose=0)"
      ]
     },
     "execution_count": 17,
     "metadata": {},
     "output_type": "execute_result"
    }
   ],
   "source": [
    "gradParamGrid = {'n_estimators':range(4,8),'max_depth': range(2,5),'learning_rate':[0.1, 0.05, 0.02],'random_state' : [1]}\n",
    "gradGridSearch = GridSearchCV(GradientBoostingRegressor(),gradParamGrid,cv=5,return_train_score=True)\n",
    "gradGridSearch.fit(X_train, y_train)"
   ]
  },
  {
   "cell_type": "code",
   "execution_count": 18,
   "metadata": {},
   "outputs": [],
   "source": [
    "gradTrainScore = gradGridSearch.score(X_train,y_train)\n",
    "gradTestScore = gradGridSearch.score(X_test,y_test)"
   ]
  },
  {
   "cell_type": "code",
   "execution_count": 20,
   "metadata": {},
   "outputs": [
    {
     "data": {
      "text/html": [
       "<div>\n",
       "<style scoped>\n",
       "    .dataframe tbody tr th:only-of-type {\n",
       "        vertical-align: middle;\n",
       "    }\n",
       "\n",
       "    .dataframe tbody tr th {\n",
       "        vertical-align: top;\n",
       "    }\n",
       "\n",
       "    .dataframe thead th {\n",
       "        text-align: right;\n",
       "    }\n",
       "</style>\n",
       "<table border=\"1\" class=\"dataframe\">\n",
       "  <thead>\n",
       "    <tr style=\"text-align: right;\">\n",
       "      <th></th>\n",
       "      <th>Model</th>\n",
       "      <th>Parameter</th>\n",
       "      <th>Train Score</th>\n",
       "      <th>Test Score</th>\n",
       "    </tr>\n",
       "  </thead>\n",
       "  <tbody>\n",
       "    <tr>\n",
       "      <th>0</th>\n",
       "      <td>Gradient Boosting Regressor</td>\n",
       "      <td>{'learning_rate': 0.1, 'max_depth': 4, 'n_esti...</td>\n",
       "      <td>0.749534</td>\n",
       "      <td>0.681298</td>\n",
       "    </tr>\n",
       "  </tbody>\n",
       "</table>\n",
       "</div>"
      ],
      "text/plain": [
       "                         Model  \\\n",
       "0  Gradient Boosting Regressor   \n",
       "\n",
       "                                           Parameter  Train Score  Test Score  \n",
       "0  {'learning_rate': 0.1, 'max_depth': 4, 'n_esti...     0.749534    0.681298  "
      ]
     },
     "execution_count": 20,
     "metadata": {},
     "output_type": "execute_result"
    }
   ],
   "source": [
    "gradReport= [['Gradient Boosting Regressor',gradGridSearch.best_params_,gradTrainScore,gradTestScore]]\n",
    "columnNames = ['Model','Parameter','Train Score','Test Score']\n",
    "pd.DataFrame(gradReport,columns = columnNames)"
   ]
  },
  {
   "cell_type": "markdown",
   "metadata": {},
   "source": [
    "# PCA"
   ]
  },
  {
   "cell_type": "code",
   "execution_count": 21,
   "metadata": {},
   "outputs": [],
   "source": [
    "from sklearn.decomposition import PCA"
   ]
  },
  {
   "cell_type": "code",
   "execution_count": 22,
   "metadata": {},
   "outputs": [
    {
     "data": {
      "text/plain": [
       "PCA(copy=True, iterated_power='auto', n_components=0.95, random_state=None,\n",
       "  svd_solver='auto', tol=0.0, whiten=True)"
      ]
     },
     "execution_count": 22,
     "metadata": {},
     "output_type": "execute_result"
    }
   ],
   "source": [
    "pca = PCA(n_components = 0.95, whiten = True)\n",
    "pca.fit(X_train)"
   ]
  },
  {
   "cell_type": "code",
   "execution_count": 23,
   "metadata": {},
   "outputs": [
    {
     "data": {
      "text/plain": [
       "[<matplotlib.lines.Line2D at 0x1ba0c0f0860>]"
      ]
     },
     "execution_count": 23,
     "metadata": {},
     "output_type": "execute_result"
    },
    {
     "data": {
      "image/png": "[encoded data removed]",
      "text/plain": [
       "<Figure size 432x288 with 1 Axes>"
      ]
     },
     "metadata": {},
     "output_type": "display_data"
    }
   ],
   "source": [
    "cumulativeVariances = np.cumsum(np.round(pca.explained_variance_ratio_*100, decimals=1))\n",
    "plt.plot(cumulativeVariances)"
   ]
  },
  {
   "cell_type": "code",
   "execution_count": 24,
   "metadata": {},
   "outputs": [
    {
     "name": "stdout",
     "output_type": "stream",
     "text": [
      "Train Shape after PCA 18\n",
      "Test Shape after PCA 18\n"
     ]
    }
   ],
   "source": [
    "pca_X_train = pca.transform(X_train)\n",
    "pca_X_test = pca.transform(X_test)\n",
    "print('Train Shape after PCA',pca_X_train.shape[1])\n",
    "print('Test Shape after PCA',pca_X_test.shape[1])"
   ]
  },
  {
   "cell_type": "markdown",
   "metadata": {},
   "source": [
    "# PCA : KNeighborsRegressor"
   ]
  },
  {
   "cell_type": "code",
   "execution_count": 25,
   "metadata": {},
   "outputs": [
    {
     "data": {
      "text/plain": [
       "GridSearchCV(cv=5, error_score='raise-deprecating',\n",
       "       estimator=KNeighborsRegressor(algorithm='auto', leaf_size=30, metric='minkowski',\n",
       "          metric_params=None, n_jobs=None, n_neighbors=5, p=2,\n",
       "          weights='uniform'),\n",
       "       fit_params=None, iid='warn', n_jobs=None,\n",
       "       param_grid={'n_neighbors': range(3, 9)}, pre_dispatch='2*n_jobs',\n",
       "       refit=True, return_train_score=True, scoring=None, verbose=0)"
      ]
     },
     "execution_count": 25,
     "metadata": {},
     "output_type": "execute_result"
    }
   ],
   "source": [
    "from sklearn.neighbors import KNeighborsRegressor\n",
    "from sklearn.model_selection import GridSearchCV\n",
    "knnParams = {'n_neighbors':range(3,9)}\n",
    "knnGridSearch = GridSearchCV(KNeighborsRegressor(), knnParams, cv=5, return_train_score=True)\n",
    "knnGridSearch.fit(pca_X_train, y_train)"
   ]
  },
  {
   "cell_type": "code",
   "execution_count": 26,
   "metadata": {},
   "outputs": [],
   "source": [
    "knnTrainScore = knnGridSearch.score(pca_X_train,y_train)\n",
    "knnTestScore = knnGridSearch.score(pca_X_test,y_test)"
   ]
  },
  {
   "cell_type": "code",
   "execution_count": 28,
   "metadata": {},
   "outputs": [
    {
     "data": {
      "text/html": [
       "<div>\n",
       "<style scoped>\n",
       "    .dataframe tbody tr th:only-of-type {\n",
       "        vertical-align: middle;\n",
       "    }\n",
       "\n",
       "    .dataframe tbody tr th {\n",
       "        vertical-align: top;\n",
       "    }\n",
       "\n",
       "    .dataframe thead th {\n",
       "        text-align: right;\n",
       "    }\n",
       "</style>\n",
       "<table border=\"1\" class=\"dataframe\">\n",
       "  <thead>\n",
       "    <tr style=\"text-align: right;\">\n",
       "      <th></th>\n",
       "      <th>Regression Task</th>\n",
       "      <th>Parameter</th>\n",
       "      <th>Train Score</th>\n",
       "      <th>Test Score</th>\n",
       "    </tr>\n",
       "  </thead>\n",
       "  <tbody>\n",
       "    <tr>\n",
       "      <th>0</th>\n",
       "      <td>KNeighborsRegressor</td>\n",
       "      <td>{'n_neighbors': 3}</td>\n",
       "      <td>0.889012</td>\n",
       "      <td>0.746776</td>\n",
       "    </tr>\n",
       "  </tbody>\n",
       "</table>\n",
       "</div>"
      ],
      "text/plain": [
       "       Regression Task           Parameter  Train Score  Test Score\n",
       "0  KNeighborsRegressor  {'n_neighbors': 3}     0.889012    0.746776"
      ]
     },
     "execution_count": 28,
     "metadata": {},
     "output_type": "execute_result"
    }
   ],
   "source": [
    "knnReport = [['KNeighborsRegressor', knnGridSearch.best_params_, knnTrainScore, knnTestScore]]\n",
    "pd.DataFrame(knnReport, columns=['Regression Task', 'Parameter','Train Score', 'Test Score'])"
   ]
  },
  {
   "cell_type": "code",
   "execution_count": 29,
   "metadata": {},
   "outputs": [],
   "source": [
    "%matplotlib inline\n",
    "import matplotlib.pyplot as plt"
   ]
  },
  {
   "cell_type": "code",
   "execution_count": 30,
   "metadata": {},
   "outputs": [
    {
     "data": {
      "text/plain": [
       "<matplotlib.legend.Legend at 0x1ba0c190fd0>"
      ]
     },
     "execution_count": 30,
     "metadata": {},
     "output_type": "execute_result"
    },
    {
     "data": {
      "image/png": "[encoded data removed]",
      "text/plain": [
       "<Figure size 792x432 with 1 Axes>"
      ]
     },
     "metadata": {},
     "output_type": "display_data"
    }
   ],
   "source": [
    "neighbors = [dict['n_neighbors'] for dict in knnGridSearch.cv_results_['params']]\n",
    "plt.figure(figsize=(11, 6))\n",
    "plt.plot(neighbors, knnGridSearch.cv_results_['mean_test_score'], label = 'Test Score', c = 'g')\n",
    "plt.plot(neighbors, knnGridSearch.cv_results_['mean_train_score'], label = 'Train Score', c = 'r')\n",
    "plt.xlabel('Neighbors(K)')\n",
    "plt.ylabel('Average Score by Cross-Validation')\n",
    "plt.title('KNeighborsRegressor')\n",
    "plt.legend()"
   ]
  },
  {
   "cell_type": "code",
   "execution_count": 31,
   "metadata": {},
   "outputs": [],
   "source": [
    "knnTrainScore = knnGridSearch.score(pca_X_train,y_train)\n",
    "knnTestScore = knnGridSearch.score(pca_X_test,y_test)"
   ]
  },
  {
   "cell_type": "code",
   "execution_count": 32,
   "metadata": {},
   "outputs": [
    {
     "data": {
      "text/html": [
       "<div>\n",
       "<style scoped>\n",
       "    .dataframe tbody tr th:only-of-type {\n",
       "        vertical-align: middle;\n",
       "    }\n",
       "\n",
       "    .dataframe tbody tr th {\n",
       "        vertical-align: top;\n",
       "    }\n",
       "\n",
       "    .dataframe thead th {\n",
       "        text-align: right;\n",
       "    }\n",
       "</style>\n",
       "<table border=\"1\" class=\"dataframe\">\n",
       "  <thead>\n",
       "    <tr style=\"text-align: right;\">\n",
       "      <th></th>\n",
       "      <th>Regression Task</th>\n",
       "      <th>Parameter</th>\n",
       "      <th>Train Score</th>\n",
       "      <th>Test Score</th>\n",
       "    </tr>\n",
       "  </thead>\n",
       "  <tbody>\n",
       "    <tr>\n",
       "      <th>0</th>\n",
       "      <td>KNeighborsRegressor</td>\n",
       "      <td>{'n_neighbors': 3}</td>\n",
       "      <td>0.889012</td>\n",
       "      <td>0.746776</td>\n",
       "    </tr>\n",
       "  </tbody>\n",
       "</table>\n",
       "</div>"
      ],
      "text/plain": [
       "       Regression Task           Parameter  Train Score  Test Score\n",
       "0  KNeighborsRegressor  {'n_neighbors': 3}     0.889012    0.746776"
      ]
     },
     "execution_count": 32,
     "metadata": {},
     "output_type": "execute_result"
    }
   ],
   "source": [
    "knnReport = [['KNeighborsRegressor', knnGridSearch.best_params_, knnTrainScore, knnTestScore]]\n",
    "pd.DataFrame(knnReport, columns=['Regression Task', 'Parameter','Train Score', 'Test Score'])"
   ]
  },
  {
   "cell_type": "markdown",
   "metadata": {},
   "source": [
    "# LinearRegression"
   ]
  },
  {
   "cell_type": "code",
   "execution_count": 33,
   "metadata": {},
   "outputs": [],
   "source": [
    "from sklearn.linear_model import LinearRegression\n",
    "LinearReg = LinearRegression()\n",
    "LinearReg.fit(pca_X_train, y_train)\n",
    "LinearRegTrainScore = round(LinearReg.score(pca_X_train, y_train), 5)\n",
    "LinearRegTestScore = round(LinearReg.score(pca_X_test, y_test), 5)"
   ]
  },
  {
   "cell_type": "code",
   "execution_count": 34,
   "metadata": {},
   "outputs": [
    {
     "data": {
      "text/html": [
       "<div>\n",
       "<style scoped>\n",
       "    .dataframe tbody tr th:only-of-type {\n",
       "        vertical-align: middle;\n",
       "    }\n",
       "\n",
       "    .dataframe tbody tr th {\n",
       "        vertical-align: top;\n",
       "    }\n",
       "\n",
       "    .dataframe thead th {\n",
       "        text-align: right;\n",
       "    }\n",
       "</style>\n",
       "<table border=\"1\" class=\"dataframe\">\n",
       "  <thead>\n",
       "    <tr style=\"text-align: right;\">\n",
       "      <th></th>\n",
       "      <th>Regression Task</th>\n",
       "      <th>Parameter</th>\n",
       "      <th>Train Score</th>\n",
       "      <th>Test Score</th>\n",
       "    </tr>\n",
       "  </thead>\n",
       "  <tbody>\n",
       "    <tr>\n",
       "      <th>0</th>\n",
       "      <td>LinearRegression</td>\n",
       "      <td></td>\n",
       "      <td>0.95687</td>\n",
       "      <td>0.83407</td>\n",
       "    </tr>\n",
       "  </tbody>\n",
       "</table>\n",
       "</div>"
      ],
      "text/plain": [
       "    Regression Task Parameter  Train Score  Test Score\n",
       "0  LinearRegression                0.95687     0.83407"
      ]
     },
     "execution_count": 34,
     "metadata": {},
     "output_type": "execute_result"
    }
   ],
   "source": [
    "LinearRegReport = [['LinearRegression','',LinearRegTrainScore, LinearRegTestScore]]\n",
    "pd.DataFrame(LinearRegReport, columns=['Regression Task', 'Parameter','Train Score', 'Test Score'])"
   ]
  },
  {
   "cell_type": "markdown",
   "metadata": {},
   "source": [
    "#  Ridge"
   ]
  },
  {
   "cell_type": "code",
   "execution_count": 35,
   "metadata": {},
   "outputs": [],
   "source": [
    "from sklearn.linear_model import Ridge"
   ]
  },
  {
   "cell_type": "code",
   "execution_count": 36,
   "metadata": {},
   "outputs": [],
   "source": [
    "ridgeTrainArray = []\n",
    "ridgeTestArray = []"
   ]
  },
  {
   "cell_type": "code",
   "execution_count": 37,
   "metadata": {},
   "outputs": [
    {
     "data": {
      "text/plain": [
       "GridSearchCV(cv=5, error_score='raise-deprecating',\n",
       "       estimator=Ridge(alpha=1.0, copy_X=True, fit_intercept=True, max_iter=None,\n",
       "   normalize=False, random_state=None, solver='auto', tol=0.001),\n",
       "       fit_params=None, iid='warn', n_jobs=None,\n",
       "       param_grid={'alpha': [0.01, 0.1, 1, 10, 100]},\n",
       "       pre_dispatch='2*n_jobs', refit=True, return_train_score=True,\n",
       "       scoring=None, verbose=0)"
      ]
     },
     "execution_count": 37,
     "metadata": {},
     "output_type": "execute_result"
    }
   ],
   "source": [
    "ridgeParams = {'alpha':[0.01,0.1,1,10,100]}\n",
    "ridgeGridSearch = GridSearchCV(Ridge(), ridgeParams, cv=5, return_train_score=True)\n",
    "ridgeGridSearch.fit(pca_X_train, y_train)"
   ]
  },
  {
   "cell_type": "code",
   "execution_count": 38,
   "metadata": {},
   "outputs": [],
   "source": [
    "ridgeTrainScore = ridgeGridSearch.score(pca_X_train, y_train)\n",
    "ridgeTestScore = ridgeGridSearch.score(pca_X_test, y_test)\n",
    "ridgeBestParam = ridgeGridSearch.best_params_"
   ]
  },
  {
   "cell_type": "code",
   "execution_count": 39,
   "metadata": {},
   "outputs": [
    {
     "data": {
      "image/png": "[encoded data removed]",
      "text/plain": [
       "<Figure size 432x288 with 1 Axes>"
      ]
     },
     "metadata": {},
     "output_type": "display_data"
    }
   ],
   "source": [
    "ridgeParamValues = [dict['alpha'] for dict in ridgeGridSearch.cv_results_['params']]\n",
    "plt.plot(ridgeParamValues,ridgeGridSearch.cv_results_['mean_train_score'])\n",
    "plt.xscale('log')"
   ]
  },
  {
   "cell_type": "code",
   "execution_count": 43,
   "metadata": {},
   "outputs": [
    {
     "data": {
      "text/plain": [
       "[<matplotlib.lines.Line2D at 0x1ba0c2aa940>]"
      ]
     },
     "execution_count": 43,
     "metadata": {},
     "output_type": "execute_result"
    },
    {
     "data": {
      "image/png": "[encoded data removed]",
      "text/plain": [
       "<Figure size 432x288 with 1 Axes>"
      ]
     },
     "metadata": {},
     "output_type": "display_data"
    }
   ],
   "source": [
    "plt.plot(ridgeParamValues,ridgeGridSearch.cv_results_['mean_test_score'])"
   ]
  },
  {
   "cell_type": "code",
   "execution_count": 45,
   "metadata": {},
   "outputs": [
    {
     "data": {
      "text/html": [
       "<div>\n",
       "<style scoped>\n",
       "    .dataframe tbody tr th:only-of-type {\n",
       "        vertical-align: middle;\n",
       "    }\n",
       "\n",
       "    .dataframe tbody tr th {\n",
       "        vertical-align: top;\n",
       "    }\n",
       "\n",
       "    .dataframe thead th {\n",
       "        text-align: right;\n",
       "    }\n",
       "</style>\n",
       "<table border=\"1\" class=\"dataframe\">\n",
       "  <thead>\n",
       "    <tr style=\"text-align: right;\">\n",
       "      <th></th>\n",
       "      <th>Regression Task</th>\n",
       "      <th>Parameter</th>\n",
       "      <th>Train Score</th>\n",
       "      <th>Test Score</th>\n",
       "    </tr>\n",
       "  </thead>\n",
       "  <tbody>\n",
       "    <tr>\n",
       "      <th>0</th>\n",
       "      <td>Ridge</td>\n",
       "      <td>{'alpha': 0.01}</td>\n",
       "      <td>0.95687</td>\n",
       "      <td>0.834069</td>\n",
       "    </tr>\n",
       "  </tbody>\n",
       "</table>\n",
       "</div>"
      ],
      "text/plain": [
       "  Regression Task        Parameter  Train Score  Test Score\n",
       "0           Ridge  {'alpha': 0.01}      0.95687    0.834069"
      ]
     },
     "execution_count": 45,
     "metadata": {},
     "output_type": "execute_result"
    }
   ],
   "source": [
    "ridge_report = [['Ridge',ridgeBestParam,ridgeTrainScore,ridgeTestScore]]\n",
    "pd.DataFrame(ridge_report,columns=['Regression Task', 'Parameter','Train Score', 'Test Score'])"
   ]
  },
  {
   "cell_type": "markdown",
   "metadata": {},
   "source": [
    "# Lasso"
   ]
  },
  {
   "cell_type": "code",
   "execution_count": 46,
   "metadata": {},
   "outputs": [
    {
     "data": {
      "text/plain": [
       "GridSearchCV(cv=5, error_score='raise-deprecating',\n",
       "       estimator=Lasso(alpha=1.0, copy_X=True, fit_intercept=True, max_iter=1000,\n",
       "   normalize=False, positive=False, precompute=False, random_state=None,\n",
       "   selection='cyclic', tol=0.0001, warm_start=False),\n",
       "       fit_params=None, iid='warn', n_jobs=None,\n",
       "       param_grid={'alpha': [2, 5, 10, 100]}, pre_dispatch='2*n_jobs',\n",
       "       refit=True, return_train_score=True, scoring=None, verbose=0)"
      ]
     },
     "execution_count": 46,
     "metadata": {},
     "output_type": "execute_result"
    }
   ],
   "source": [
    "from sklearn.linear_model import Lasso\n",
    "lasso_param={'alpha':[2,5,10,100]}\n",
    "lasso_grid_search = GridSearchCV(Lasso(),lasso_param,cv=5,return_train_score=True)\n",
    "lasso_grid_search.fit(pca_X_train,y_train)"
   ]
  },
  {
   "cell_type": "code",
   "execution_count": 47,
   "metadata": {},
   "outputs": [],
   "source": [
    "lasso_train_score = lasso_grid_search.score(pca_X_train,y_train)\n",
    "lasso_test_score = lasso_grid_search.score(pca_X_test, y_test)\n",
    "lasso_param = lasso_grid_search.best_params_"
   ]
  },
  {
   "cell_type": "code",
   "execution_count": 48,
   "metadata": {},
   "outputs": [
    {
     "data": {
      "text/plain": [
       "[<matplotlib.lines.Line2D at 0x1ba0c2eb5c0>]"
      ]
     },
     "execution_count": 48,
     "metadata": {},
     "output_type": "execute_result"
    },
    {
     "data": {
      "image/png": "[encoded data removed]",
      "text/plain": [
       "<Figure size 432x288 with 1 Axes>"
      ]
     },
     "metadata": {},
     "output_type": "display_data"
    }
   ],
   "source": [
    "lasso_param_values = [dict['alpha'] for dict in lasso_grid_search.cv_results_['params']]\n",
    "plt.plot(lasso_param_values,lasso_grid_search.cv_results_['mean_train_score'])\n",
    "plt.xscale('log')\n",
    "plt.plot(lasso_param_values,lasso_grid_search.cv_results_['mean_test_score'])"
   ]
  },
  {
   "cell_type": "code",
   "execution_count": 49,
   "metadata": {},
   "outputs": [
    {
     "data": {
      "text/html": [
       "<div>\n",
       "<style scoped>\n",
       "    .dataframe tbody tr th:only-of-type {\n",
       "        vertical-align: middle;\n",
       "    }\n",
       "\n",
       "    .dataframe tbody tr th {\n",
       "        vertical-align: top;\n",
       "    }\n",
       "\n",
       "    .dataframe thead th {\n",
       "        text-align: right;\n",
       "    }\n",
       "</style>\n",
       "<table border=\"1\" class=\"dataframe\">\n",
       "  <thead>\n",
       "    <tr style=\"text-align: right;\">\n",
       "      <th></th>\n",
       "      <th>Regression Task</th>\n",
       "      <th>Parameter</th>\n",
       "      <th>Train Score</th>\n",
       "      <th>Test Score</th>\n",
       "    </tr>\n",
       "  </thead>\n",
       "  <tbody>\n",
       "    <tr>\n",
       "      <th>0</th>\n",
       "      <td>Lasso</td>\n",
       "      <td>{'alpha': 2}</td>\n",
       "      <td>0.956728</td>\n",
       "      <td>0.828824</td>\n",
       "    </tr>\n",
       "  </tbody>\n",
       "</table>\n",
       "</div>"
      ],
      "text/plain": [
       "  Regression Task     Parameter  Train Score  Test Score\n",
       "0           Lasso  {'alpha': 2}     0.956728    0.828824"
      ]
     },
     "execution_count": 49,
     "metadata": {},
     "output_type": "execute_result"
    }
   ],
   "source": [
    "lasso_report = [['Lasso',lasso_param,lasso_train_score,lasso_test_score]]\n",
    "pd.DataFrame(lasso_report,columns=['Regression Task', 'Parameter','Train Score', 'Test Score'])"
   ]
  },
  {
   "cell_type": "markdown",
   "metadata": {},
   "source": [
    "# Polynomial Regression"
   ]
  },
  {
   "cell_type": "code",
   "execution_count": 81,
   "metadata": {},
   "outputs": [],
   "source": [
    "from sklearn.preprocessing import PolynomialFeatures\n",
    "from sklearn.pipeline import Pipeline\n",
    "pipe = Pipeline([('poly',PolynomialFeatures()),('linreg',LinearRegression())])"
   ]
  },
  {
   "cell_type": "code",
   "execution_count": 82,
   "metadata": {},
   "outputs": [
    {
     "data": {
      "text/plain": [
       "GridSearchCV(cv=5, error_score='raise-deprecating',\n",
       "       estimator=Pipeline(memory=None,\n",
       "     steps=[('poly', PolynomialFeatures(degree=2, include_bias=True, interaction_only=False)), ('linreg', LinearRegression(copy_X=True, fit_intercept=True, n_jobs=None,\n",
       "         normalize=False))]),\n",
       "       fit_params=None, iid='warn', n_jobs=None,\n",
       "       param_grid={'poly__degree': [2, 3]}, pre_dispatch='2*n_jobs',\n",
       "       refit=True, return_train_score=True, scoring=None, verbose=0)"
      ]
     },
     "execution_count": 82,
     "metadata": {},
     "output_type": "execute_result"
    }
   ],
   "source": [
    "poly_param = {'poly__degree':[2,3]}\n",
    "poly_grid_search = GridSearchCV(pipe,poly_param,cv=5,return_train_score=True)\n",
    "poly_grid_search.fit(pca_X_train,y_train)"
   ]
  },
  {
   "cell_type": "code",
   "execution_count": 83,
   "metadata": {},
   "outputs": [],
   "source": [
    "poly_train_score = poly_grid_search.score(pca_X_train,y_train)\n",
    "poly_test_score = poly_grid_search.score(pca_X_test, y_test)\n",
    "poly_param = poly_grid_search.best_params_"
   ]
  },
  {
   "cell_type": "code",
   "execution_count": 84,
   "metadata": {},
   "outputs": [
    {
     "data": {
      "text/html": [
       "<div>\n",
       "<style scoped>\n",
       "    .dataframe tbody tr th:only-of-type {\n",
       "        vertical-align: middle;\n",
       "    }\n",
       "\n",
       "    .dataframe tbody tr th {\n",
       "        vertical-align: top;\n",
       "    }\n",
       "\n",
       "    .dataframe thead th {\n",
       "        text-align: right;\n",
       "    }\n",
       "</style>\n",
       "<table border=\"1\" class=\"dataframe\">\n",
       "  <thead>\n",
       "    <tr style=\"text-align: right;\">\n",
       "      <th></th>\n",
       "      <th>Regression Task</th>\n",
       "      <th>Parameter</th>\n",
       "      <th>Train Score</th>\n",
       "      <th>Test Score</th>\n",
       "    </tr>\n",
       "  </thead>\n",
       "  <tbody>\n",
       "    <tr>\n",
       "      <th>0</th>\n",
       "      <td>Polynomial Regression</td>\n",
       "      <td>{'poly__degree': 2}</td>\n",
       "      <td>0.974474</td>\n",
       "      <td>-62.831135</td>\n",
       "    </tr>\n",
       "  </tbody>\n",
       "</table>\n",
       "</div>"
      ],
      "text/plain": [
       "         Regression Task            Parameter  Train Score  Test Score\n",
       "0  Polynomial Regression  {'poly__degree': 2}     0.974474  -62.831135"
      ]
     },
     "execution_count": 84,
     "metadata": {},
     "output_type": "execute_result"
    }
   ],
   "source": [
    "poly_report = [['Polynomial Regression',poly_param,poly_train_score,poly_test_score]]\n",
    "pd.DataFrame(poly_report,columns=['Regression Task', 'Parameter','Train Score', 'Test Score'])"
   ]
  },
  {
   "cell_type": "markdown",
   "metadata": {},
   "source": [
    "# Linear SVR"
   ]
  },
  {
   "cell_type": "code",
   "execution_count": 50,
   "metadata": {},
   "outputs": [
    {
     "data": {
      "text/plain": [
       "GridSearchCV(cv=5, error_score='raise-deprecating',\n",
       "       estimator=LinearSVR(C=1.0, dual=True, epsilon=0.0, fit_intercept=True,\n",
       "     intercept_scaling=1.0, loss='epsilon_insensitive', max_iter=1000,\n",
       "     random_state=None, tol=0.0001, verbose=0),\n",
       "       fit_params=None, iid='warn', n_jobs=None,\n",
       "       param_grid={'C': [0.01, 0.1, 1, 10, 100]}, pre_dispatch='2*n_jobs',\n",
       "       refit=True, return_train_score=True, scoring=None, verbose=0)"
      ]
     },
     "execution_count": 50,
     "metadata": {},
     "output_type": "execute_result"
    }
   ],
   "source": [
    "from sklearn.svm import LinearSVR\n",
    "linsvr_param={'C':[0.01,0.1,1,10,100]}\n",
    "linsvr_grid_search = GridSearchCV(LinearSVR(),linsvr_param,cv=5,return_train_score=True)\n",
    "linsvr_grid_search.fit(pca_X_train,y_train)"
   ]
  },
  {
   "cell_type": "code",
   "execution_count": 51,
   "metadata": {},
   "outputs": [],
   "source": [
    "linsvr_train_score = linsvr_grid_search.score(pca_X_train,y_train)\n",
    "linsvr_test_score = linsvr_grid_search.score(pca_X_test,y_test)\n",
    "linsvr_params = linsvr_grid_search.best_params_"
   ]
  },
  {
   "cell_type": "code",
   "execution_count": 52,
   "metadata": {},
   "outputs": [
    {
     "data": {
      "text/html": [
       "<div>\n",
       "<style scoped>\n",
       "    .dataframe tbody tr th:only-of-type {\n",
       "        vertical-align: middle;\n",
       "    }\n",
       "\n",
       "    .dataframe tbody tr th {\n",
       "        vertical-align: top;\n",
       "    }\n",
       "\n",
       "    .dataframe thead th {\n",
       "        text-align: right;\n",
       "    }\n",
       "</style>\n",
       "<table border=\"1\" class=\"dataframe\">\n",
       "  <thead>\n",
       "    <tr style=\"text-align: right;\">\n",
       "      <th></th>\n",
       "      <th>Regression Task</th>\n",
       "      <th>Parameter</th>\n",
       "      <th>Train Score</th>\n",
       "      <th>Test Score</th>\n",
       "    </tr>\n",
       "  </thead>\n",
       "  <tbody>\n",
       "    <tr>\n",
       "      <th>0</th>\n",
       "      <td>Linear SVR</td>\n",
       "      <td>{'C': 100}</td>\n",
       "      <td>0.949296</td>\n",
       "      <td>0.830082</td>\n",
       "    </tr>\n",
       "  </tbody>\n",
       "</table>\n",
       "</div>"
      ],
      "text/plain": [
       "  Regression Task   Parameter  Train Score  Test Score\n",
       "0      Linear SVR  {'C': 100}     0.949296    0.830082"
      ]
     },
     "execution_count": 52,
     "metadata": {},
     "output_type": "execute_result"
    }
   ],
   "source": [
    "linsvr_report = [['Linear SVR',linsvr_params,linsvr_train_score,linsvr_test_score]]\n",
    "pd.DataFrame(linsvr_report,columns=['Regression Task', 'Parameter','Train Score', 'Test Score'])"
   ]
  },
  {
   "cell_type": "markdown",
   "metadata": {},
   "source": [
    "# RBF SVR"
   ]
  },
  {
   "cell_type": "code",
   "execution_count": 85,
   "metadata": {},
   "outputs": [
    {
     "data": {
      "text/plain": [
       "GridSearchCV(cv=5, error_score='raise-deprecating',\n",
       "       estimator=SVR(C=1.0, cache_size=200, coef0=0.0, degree=3, epsilon=0.1,\n",
       "  gamma='auto_deprecated', kernel='rbf', max_iter=-1, shrinking=True,\n",
       "  tol=0.001, verbose=False),\n",
       "       fit_params=None, iid='warn', n_jobs=None,\n",
       "       param_grid={'C': [0.01, 0.1, 1, 10, 100], 'gamma': [0.01, 0.1, 1, 10, 100]},\n",
       "       pre_dispatch='2*n_jobs', refit=True, return_train_score=True,\n",
       "       scoring=None, verbose=0)"
      ]
     },
     "execution_count": 85,
     "metadata": {},
     "output_type": "execute_result"
    }
   ],
   "source": [
    "from sklearn.svm import SVR\n",
    "rbfsvr_param={'C':[0.01,0.1,1,10,100], 'gamma':[0.01,0.1,1,10,100]}\n",
    "rbfsvr_grid_search = GridSearchCV(SVR(kernel='rbf'),rbfsvr_param,cv=5,return_train_score=True)\n",
    "rbfsvr_grid_search.fit(X_train,y_train)"
   ]
  },
  {
   "cell_type": "code",
   "execution_count": 86,
   "metadata": {},
   "outputs": [
    {
     "ename": "ValueError",
     "evalue": "X.shape[1] = 18 should be equal to 77, the number of features at training time",
     "output_type": "error",
     "traceback": [
      "\u001b[1;31m---------------------------------------------------------------------------\u001b[0m",
      "\u001b[1;31mValueError\u001b[0m                                Traceback (most recent call last)",
      "\u001b[1;32m<ipython-input-86-99fc0eb9f6f2>\u001b[0m in \u001b[0;36m<module>\u001b[1;34m()\u001b[0m\n\u001b[1;32m----> 1\u001b[1;33m \u001b[0mrbfsvr_train_score\u001b[0m \u001b[1;33m=\u001b[0m \u001b[0mrbfsvr_grid_search\u001b[0m\u001b[1;33m.\u001b[0m\u001b[0mscore\u001b[0m\u001b[1;33m(\u001b[0m\u001b[0mpca_X_train\u001b[0m\u001b[1;33m,\u001b[0m\u001b[0my_train\u001b[0m\u001b[1;33m)\u001b[0m\u001b[1;33m\u001b[0m\u001b[0m\n\u001b[0m\u001b[0;32m      2\u001b[0m \u001b[0mrbfsvr_test_score\u001b[0m \u001b[1;33m=\u001b[0m \u001b[0mrbfsvr_grid_search\u001b[0m\u001b[1;33m.\u001b[0m\u001b[0mscore\u001b[0m\u001b[1;33m(\u001b[0m\u001b[0mpca_X_test\u001b[0m\u001b[1;33m,\u001b[0m\u001b[0my_test\u001b[0m\u001b[1;33m)\u001b[0m\u001b[1;33m\u001b[0m\u001b[0m\n\u001b[0;32m      3\u001b[0m \u001b[0mrbfsvr_params\u001b[0m \u001b[1;33m=\u001b[0m \u001b[0mrbfsvr_grid_search\u001b[0m\u001b[1;33m.\u001b[0m\u001b[0mbest_params_\u001b[0m\u001b[1;33m\u001b[0m\u001b[0m\n",
      "\u001b[1;32mC:\\Anaconda\\lib\\site-packages\\sklearn\\model_selection\\_search.py\u001b[0m in \u001b[0;36mscore\u001b[1;34m(self, X, y)\u001b[0m\n\u001b[0;32m    460\u001b[0m                              % self.best_estimator_)\n\u001b[0;32m    461\u001b[0m         \u001b[0mscore\u001b[0m \u001b[1;33m=\u001b[0m \u001b[0mself\u001b[0m\u001b[1;33m.\u001b[0m\u001b[0mscorer_\u001b[0m\u001b[1;33m[\u001b[0m\u001b[0mself\u001b[0m\u001b[1;33m.\u001b[0m\u001b[0mrefit\u001b[0m\u001b[1;33m]\u001b[0m \u001b[1;32mif\u001b[0m \u001b[0mself\u001b[0m\u001b[1;33m.\u001b[0m\u001b[0mmultimetric_\u001b[0m \u001b[1;32melse\u001b[0m \u001b[0mself\u001b[0m\u001b[1;33m.\u001b[0m\u001b[0mscorer_\u001b[0m\u001b[1;33m\u001b[0m\u001b[0m\n\u001b[1;32m--> 462\u001b[1;33m         \u001b[1;32mreturn\u001b[0m \u001b[0mscore\u001b[0m\u001b[1;33m(\u001b[0m\u001b[0mself\u001b[0m\u001b[1;33m.\u001b[0m\u001b[0mbest_estimator_\u001b[0m\u001b[1;33m,\u001b[0m \u001b[0mX\u001b[0m\u001b[1;33m,\u001b[0m \u001b[0my\u001b[0m\u001b[1;33m)\u001b[0m\u001b[1;33m\u001b[0m\u001b[0m\n\u001b[0m\u001b[0;32m    463\u001b[0m \u001b[1;33m\u001b[0m\u001b[0m\n\u001b[0;32m    464\u001b[0m     \u001b[1;32mdef\u001b[0m \u001b[0m_check_is_fitted\u001b[0m\u001b[1;33m(\u001b[0m\u001b[0mself\u001b[0m\u001b[1;33m,\u001b[0m \u001b[0mmethod_name\u001b[0m\u001b[1;33m)\u001b[0m\u001b[1;33m:\u001b[0m\u001b[1;33m\u001b[0m\u001b[0m\n",
      "\u001b[1;32mC:\\Anaconda\\lib\\site-packages\\sklearn\\metrics\\scorer.py\u001b[0m in \u001b[0;36m_passthrough_scorer\u001b[1;34m(estimator, *args, **kwargs)\u001b[0m\n\u001b[0;32m    226\u001b[0m \u001b[1;32mdef\u001b[0m \u001b[0m_passthrough_scorer\u001b[0m\u001b[1;33m(\u001b[0m\u001b[0mestimator\u001b[0m\u001b[1;33m,\u001b[0m \u001b[1;33m*\u001b[0m\u001b[0margs\u001b[0m\u001b[1;33m,\u001b[0m \u001b[1;33m**\u001b[0m\u001b[0mkwargs\u001b[0m\u001b[1;33m)\u001b[0m\u001b[1;33m:\u001b[0m\u001b[1;33m\u001b[0m\u001b[0m\n\u001b[0;32m    227\u001b[0m     \u001b[1;34m\"\"\"Function that wraps estimator.score\"\"\"\u001b[0m\u001b[1;33m\u001b[0m\u001b[0m\n\u001b[1;32m--> 228\u001b[1;33m     \u001b[1;32mreturn\u001b[0m \u001b[0mestimator\u001b[0m\u001b[1;33m.\u001b[0m\u001b[0mscore\u001b[0m\u001b[1;33m(\u001b[0m\u001b[1;33m*\u001b[0m\u001b[0margs\u001b[0m\u001b[1;33m,\u001b[0m \u001b[1;33m**\u001b[0m\u001b[0mkwargs\u001b[0m\u001b[1;33m)\u001b[0m\u001b[1;33m\u001b[0m\u001b[0m\n\u001b[0m\u001b[0;32m    229\u001b[0m \u001b[1;33m\u001b[0m\u001b[0m\n\u001b[0;32m    230\u001b[0m \u001b[1;33m\u001b[0m\u001b[0m\n",
      "\u001b[1;32mC:\\Anaconda\\lib\\site-packages\\sklearn\\base.py\u001b[0m in \u001b[0;36mscore\u001b[1;34m(self, X, y, sample_weight)\u001b[0m\n\u001b[0;32m    326\u001b[0m \u001b[1;33m\u001b[0m\u001b[0m\n\u001b[0;32m    327\u001b[0m         \u001b[1;32mfrom\u001b[0m \u001b[1;33m.\u001b[0m\u001b[0mmetrics\u001b[0m \u001b[1;32mimport\u001b[0m \u001b[0mr2_score\u001b[0m\u001b[1;33m\u001b[0m\u001b[0m\n\u001b[1;32m--> 328\u001b[1;33m         return r2_score(y, self.predict(X), sample_weight=sample_weight,\n\u001b[0m\u001b[0;32m    329\u001b[0m                         multioutput='variance_weighted')\n\u001b[0;32m    330\u001b[0m \u001b[1;33m\u001b[0m\u001b[0m\n",
      "\u001b[1;32mC:\\Anaconda\\lib\\site-packages\\sklearn\\svm\\base.py\u001b[0m in \u001b[0;36mpredict\u001b[1;34m(self, X)\u001b[0m\n\u001b[0;32m    323\u001b[0m         \u001b[0my_pred\u001b[0m \u001b[1;33m:\u001b[0m \u001b[0marray\u001b[0m\u001b[1;33m,\u001b[0m \u001b[0mshape\u001b[0m \u001b[1;33m(\u001b[0m\u001b[0mn_samples\u001b[0m\u001b[1;33m,\u001b[0m\u001b[1;33m)\u001b[0m\u001b[1;33m\u001b[0m\u001b[0m\n\u001b[0;32m    324\u001b[0m         \"\"\"\n\u001b[1;32m--> 325\u001b[1;33m         \u001b[0mX\u001b[0m \u001b[1;33m=\u001b[0m \u001b[0mself\u001b[0m\u001b[1;33m.\u001b[0m\u001b[0m_validate_for_predict\u001b[0m\u001b[1;33m(\u001b[0m\u001b[0mX\u001b[0m\u001b[1;33m)\u001b[0m\u001b[1;33m\u001b[0m\u001b[0m\n\u001b[0m\u001b[0;32m    326\u001b[0m         \u001b[0mpredict\u001b[0m \u001b[1;33m=\u001b[0m \u001b[0mself\u001b[0m\u001b[1;33m.\u001b[0m\u001b[0m_sparse_predict\u001b[0m \u001b[1;32mif\u001b[0m \u001b[0mself\u001b[0m\u001b[1;33m.\u001b[0m\u001b[0m_sparse\u001b[0m \u001b[1;32melse\u001b[0m \u001b[0mself\u001b[0m\u001b[1;33m.\u001b[0m\u001b[0m_dense_predict\u001b[0m\u001b[1;33m\u001b[0m\u001b[0m\n\u001b[0;32m    327\u001b[0m         \u001b[1;32mreturn\u001b[0m \u001b[0mpredict\u001b[0m\u001b[1;33m(\u001b[0m\u001b[0mX\u001b[0m\u001b[1;33m)\u001b[0m\u001b[1;33m\u001b[0m\u001b[0m\n",
      "\u001b[1;32mC:\\Anaconda\\lib\\site-packages\\sklearn\\svm\\base.py\u001b[0m in \u001b[0;36m_validate_for_predict\u001b[1;34m(self, X)\u001b[0m\n\u001b[0;32m    476\u001b[0m             raise ValueError(\"X.shape[1] = %d should be equal to %d, \"\n\u001b[0;32m    477\u001b[0m                              \u001b[1;34m\"the number of features at training time\"\u001b[0m \u001b[1;33m%\u001b[0m\u001b[1;33m\u001b[0m\u001b[0m\n\u001b[1;32m--> 478\u001b[1;33m                              (n_features, self.shape_fit_[1]))\n\u001b[0m\u001b[0;32m    479\u001b[0m         \u001b[1;32mreturn\u001b[0m \u001b[0mX\u001b[0m\u001b[1;33m\u001b[0m\u001b[0m\n\u001b[0;32m    480\u001b[0m \u001b[1;33m\u001b[0m\u001b[0m\n",
      "\u001b[1;31mValueError\u001b[0m: X.shape[1] = 18 should be equal to 77, the number of features at training time"
     ]
    }
   ],
   "source": [
    "rbfsvr_train_score = rbfsvr_grid_search.score(pca_X_train,y_train)\n",
    "rbfsvr_test_score = rbfsvr_grid_search.score(pca_X_test,y_test)\n",
    "rbfsvr_params = rbfsvr_grid_search.best_params_"
   ]
  },
  {
   "cell_type": "code",
   "execution_count": null,
   "metadata": {},
   "outputs": [],
   "source": [
    "rbfsvr_report = [['RBF SVR',rbfsvr_params,rbfsvr_train_score,rbfsvr_test_score]]\n",
    "pd.DataFrame(rbfsvr_report,columns=['Regression Task', 'Parameter','Train Score', 'Test Score'])"
   ]
  },
  {
   "cell_type": "markdown",
   "metadata": {},
   "source": [
    "# Final Report"
   ]
  },
  {
   "cell_type": "code",
   "execution_count": null,
   "metadata": {},
   "outputs": [],
   "source": [
    "from IPython.display import display, HTML\n",
    "pd.options.display.float_format = '{:.4f}'.format\n",
    "final_report = pd.DataFrame(knn_report+Linreg_report+ridge_report+lasso_report+poly_report+linsvr_report+polysvr_report,columns=['Regression Task', 'Parameter','Train Score', 'Test Score'],index=range(1,8))\n",
    "final_report"
   ]
  },
  {
   "cell_type": "markdown",
   "metadata": {},
   "source": [
    "# Neural - Deep Learning"
   ]
  },
  {
   "cell_type": "code",
   "execution_count": null,
   "metadata": {},
   "outputs": [],
   "source": [
    "import numpy as np\n",
    "from sklearn.model_selection import GridSearchCV\n",
    "from keras.models import Sequential\n",
    "from keras.layers import Dense\n",
    "from keras.wrappers.scikit_learn import KerasRegressor"
   ]
  },
  {
   "cell_type": "code",
   "execution_count": null,
   "metadata": {},
   "outputs": [],
   "source": [
    "def create_model():\n",
    "    #create model\n",
    "    model = Sequential()\n",
    "    model.add(Dense(2, input_dim=77, activation='relu'))\n",
    "    model.add(Dense(1, activation='sigmoid'))\n",
    "    #compile model\n",
    "    model.compile(loss='binary_crossentropy', optimizer='adam', metrics=['accuracy'])\n",
    "    return model\n",
    "\n",
    "seed = 10\n",
    "np.random.seed(10)\n",
    "\n",
    "model = KerasRegressor(build_fn = create_model, verbose = 0)\n",
    "\n",
    "param_grid = {'batch_size':[10,20] , 'epochs':[10, 50]}\n",
    "grid_search = GridSearchCV(estimator= model, param_grid = param_grid, cv = 5)\n",
    "\n",
    "grid_search_result = grid_search.fit(X_train, y_train)"
   ]
  }
 ],
 "metadata": {
  "kernelspec": {
   "display_name": "Python 3",
   "language": "python",
   "name": "python3"
  },
  "language_info": {
   "codemirror_mode": {
    "name": "ipython",
    "version": 3
   },
   "file_extension": ".py",
   "mimetype": "text/x-python",
   "name": "python",
   "nbconvert_exporter": "python",
   "pygments_lexer": "ipython3",
   "version": "3.6.5"
  }
 },
 "nbformat": 4,
 "nbformat_minor": 2
}
