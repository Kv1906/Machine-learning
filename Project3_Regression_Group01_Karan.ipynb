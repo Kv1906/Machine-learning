{
 "cells": [
  {
   "cell_type": "markdown",
   "metadata": {},
   "source": [
    "### <font color='red'> Project 3 : Buzz Prediction on Twitter\n",
    "\n",
    "Project Description:\n",
    "- Use same datasets as Project 2.\n",
    "- Run all the models only on 10% data. Use code given in Project 2 for sampling.\n",
    "- Preprocess data: Explore data and apply data scaling.\n",
    "\n",
    "Regression Task:\n",
    "- Apply any two models with bagging and any two models with pasting.\n",
    "- Apply any two models with adaboost boosting\n",
    "- Apply one model with gradient boosting\n",
    "- Apply PCA on data and then apply all the models in project 2 again on data you get from PCA. Compare your results with results in project 2. You don't need to apply all the models twice. Just copy the result table from project 2, prepare similar table for all the models after PCA and compare both tables. Does PCA help in getting better results?\n",
    "- Apply deep learning models covered in class\n",
    "\n",
    "Classification Task:\n",
    "- Apply four voting classifiers - two with hard voting and two with soft voting\n",
    "- Apply any two models with bagging and any two models with pasting.\n",
    "- Apply any two models with adaboost boosting\n",
    "- Apply one model with gradient boosting\n",
    "- Apply PCA on data and then apply all the models in project 2 again on data you get from PCA. Compare your results with results in project 2. You don't need to apply all the models twice. Just copy the result table from project 2, prepare similar table for all the models after PCA and compare both tables. Does PCA help in getting better results?\n",
    "- Apply deep learning models covered in class\n",
    "\n",
    "Deliverables:\n",
    "- Use markdown to provide inline comments for this project.\n",
    "- Your outputs should be clearly executed in the notebook i.e. we should not need to rerun the code to obtain the outputs.\n",
    "- Visualization encouraged.\n",
    "- If you are submitting two different files, then please only one group member submit both the files. If you submit two files separately from different accounts, it will be submitted as two different attempts.\n",
    "- If you are submitting two different files, then please follow below naming convetion:\n",
    "    Project3_Regression_GroupXX_Firstname1_Firstname2.ipynb\n",
    "    Project3_Classification_GroupXX_Firstname1_Firstname2.ipynb\n",
    "- If you are submitting single file, then please follow below naming convetion:\n",
    "    Project3_Both_GroupXX_Firstname1_Firstname2.ipynb\n",
    "\n",
    "Questions regarding the project:\n",
    "- We have created a discussion board under Projects folder on e-learning. Create threads over there and post your queries related to project there.\n",
    "- We will also answer queries there. We will not be answering any project related queries through the mail."
   ]
  },
  {
   "cell_type": "code",
   "execution_count": 1,
   "metadata": {},
   "outputs": [],
   "source": [
    "import pandas as pd\n",
    "import numpy as np\n",
    "import matplotlib.pyplot as plt"
   ]
  },
  {
   "cell_type": "code",
   "execution_count": 2,
   "metadata": {},
   "outputs": [],
   "source": [
    "dataFrame = pd.read_table('Twitter.data',sep=',',header=None)"
   ]
  },
  {
   "cell_type": "code",
   "execution_count": 3,
   "metadata": {},
   "outputs": [
    {
     "data": {
      "text/plain": [
       "(583250, 78)"
      ]
     },
     "execution_count": 3,
     "metadata": {},
     "output_type": "execute_result"
    }
   ],
   "source": [
    "dataFrame.shape"
   ]
  },
  {
   "cell_type": "code",
   "execution_count": 4,
   "metadata": {},
   "outputs": [],
   "source": [
    "# As the dataset is quite large at first I run model on only 10% of it.\n",
    "tenthOfDataFrame = dataFrame.sample(frac=0.1,random_state=0).reset_index().iloc[:,1:]"
   ]
  },
  {
   "cell_type": "code",
   "execution_count": 5,
   "metadata": {},
   "outputs": [
    {
     "data": {
      "text/html": [
       "<div>\n",
       "<style scoped>\n",
       "    .dataframe tbody tr th:only-of-type {\n",
       "        vertical-align: middle;\n",
       "    }\n",
       "\n",
       "    .dataframe tbody tr th {\n",
       "        vertical-align: top;\n",
       "    }\n",
       "\n",
       "    .dataframe thead th {\n",
       "        text-align: right;\n",
       "    }\n",
       "</style>\n",
       "<table border=\"1\" class=\"dataframe\">\n",
       "  <thead>\n",
       "    <tr style=\"text-align: right;\">\n",
       "      <th></th>\n",
       "      <th>0</th>\n",
       "      <th>1</th>\n",
       "      <th>2</th>\n",
       "      <th>3</th>\n",
       "      <th>4</th>\n",
       "      <th>5</th>\n",
       "      <th>6</th>\n",
       "      <th>7</th>\n",
       "      <th>8</th>\n",
       "      <th>9</th>\n",
       "      <th>...</th>\n",
       "      <th>68</th>\n",
       "      <th>69</th>\n",
       "      <th>70</th>\n",
       "      <th>71</th>\n",
       "      <th>72</th>\n",
       "      <th>73</th>\n",
       "      <th>74</th>\n",
       "      <th>75</th>\n",
       "      <th>76</th>\n",
       "      <th>77</th>\n",
       "    </tr>\n",
       "  </thead>\n",
       "  <tbody>\n",
       "    <tr>\n",
       "      <th>count</th>\n",
       "      <td>58325.000000</td>\n",
       "      <td>58325.000000</td>\n",
       "      <td>58325.000000</td>\n",
       "      <td>58325.000000</td>\n",
       "      <td>58325.000000</td>\n",
       "      <td>58325.000000</td>\n",
       "      <td>58325.00000</td>\n",
       "      <td>58325.000000</td>\n",
       "      <td>58325.000000</td>\n",
       "      <td>58325.000000</td>\n",
       "      <td>...</td>\n",
       "      <td>58325.000000</td>\n",
       "      <td>58325.000000</td>\n",
       "      <td>58325.000000</td>\n",
       "      <td>58325.000000</td>\n",
       "      <td>58325.000000</td>\n",
       "      <td>58325.000000</td>\n",
       "      <td>58325.000000</td>\n",
       "      <td>58325.000000</td>\n",
       "      <td>58325.000000</td>\n",
       "      <td>58325.000000</td>\n",
       "    </tr>\n",
       "    <tr>\n",
       "      <th>mean</th>\n",
       "      <td>140.126584</td>\n",
       "      <td>136.868838</td>\n",
       "      <td>156.955062</td>\n",
       "      <td>179.682486</td>\n",
       "      <td>199.257900</td>\n",
       "      <td>219.211916</td>\n",
       "      <td>219.45658</td>\n",
       "      <td>70.923858</td>\n",
       "      <td>70.036348</td>\n",
       "      <td>80.801200</td>\n",
       "      <td>...</td>\n",
       "      <td>1.133875</td>\n",
       "      <td>1.140817</td>\n",
       "      <td>140.573579</td>\n",
       "      <td>137.277274</td>\n",
       "      <td>157.381054</td>\n",
       "      <td>180.146198</td>\n",
       "      <td>199.754942</td>\n",
       "      <td>219.741826</td>\n",
       "      <td>220.006738</td>\n",
       "      <td>191.189138</td>\n",
       "    </tr>\n",
       "    <tr>\n",
       "      <th>std</th>\n",
       "      <td>425.052920</td>\n",
       "      <td>416.511587</td>\n",
       "      <td>469.547561</td>\n",
       "      <td>539.438199</td>\n",
       "      <td>588.746167</td>\n",
       "      <td>644.738019</td>\n",
       "      <td>667.18355</td>\n",
       "      <td>191.186827</td>\n",
       "      <td>192.935438</td>\n",
       "      <td>220.429714</td>\n",
       "      <td>...</td>\n",
       "      <td>1.489686</td>\n",
       "      <td>1.662931</td>\n",
       "      <td>425.847933</td>\n",
       "      <td>417.199651</td>\n",
       "      <td>470.259535</td>\n",
       "      <td>540.189760</td>\n",
       "      <td>589.515545</td>\n",
       "      <td>645.517799</td>\n",
       "      <td>667.965136</td>\n",
       "      <td>611.995332</td>\n",
       "    </tr>\n",
       "    <tr>\n",
       "      <th>min</th>\n",
       "      <td>0.000000</td>\n",
       "      <td>0.000000</td>\n",
       "      <td>0.000000</td>\n",
       "      <td>0.000000</td>\n",
       "      <td>0.000000</td>\n",
       "      <td>0.000000</td>\n",
       "      <td>0.00000</td>\n",
       "      <td>0.000000</td>\n",
       "      <td>0.000000</td>\n",
       "      <td>0.000000</td>\n",
       "      <td>...</td>\n",
       "      <td>0.000000</td>\n",
       "      <td>0.000000</td>\n",
       "      <td>0.000000</td>\n",
       "      <td>0.000000</td>\n",
       "      <td>0.000000</td>\n",
       "      <td>0.000000</td>\n",
       "      <td>0.000000</td>\n",
       "      <td>0.000000</td>\n",
       "      <td>0.000000</td>\n",
       "      <td>0.000000</td>\n",
       "    </tr>\n",
       "    <tr>\n",
       "      <th>25%</th>\n",
       "      <td>3.000000</td>\n",
       "      <td>3.000000</td>\n",
       "      <td>4.000000</td>\n",
       "      <td>4.000000</td>\n",
       "      <td>5.000000</td>\n",
       "      <td>6.000000</td>\n",
       "      <td>6.00000</td>\n",
       "      <td>2.000000</td>\n",
       "      <td>2.000000</td>\n",
       "      <td>2.000000</td>\n",
       "      <td>...</td>\n",
       "      <td>1.000000</td>\n",
       "      <td>1.000000</td>\n",
       "      <td>3.000000</td>\n",
       "      <td>3.000000</td>\n",
       "      <td>4.000000</td>\n",
       "      <td>4.000000</td>\n",
       "      <td>5.000000</td>\n",
       "      <td>6.000000</td>\n",
       "      <td>6.000000</td>\n",
       "      <td>4.500000</td>\n",
       "    </tr>\n",
       "    <tr>\n",
       "      <th>50%</th>\n",
       "      <td>18.000000</td>\n",
       "      <td>17.000000</td>\n",
       "      <td>21.000000</td>\n",
       "      <td>23.000000</td>\n",
       "      <td>26.000000</td>\n",
       "      <td>31.000000</td>\n",
       "      <td>30.00000</td>\n",
       "      <td>11.000000</td>\n",
       "      <td>11.000000</td>\n",
       "      <td>13.000000</td>\n",
       "      <td>...</td>\n",
       "      <td>1.000000</td>\n",
       "      <td>1.000000</td>\n",
       "      <td>18.000000</td>\n",
       "      <td>17.000000</td>\n",
       "      <td>21.000000</td>\n",
       "      <td>23.000000</td>\n",
       "      <td>26.000000</td>\n",
       "      <td>31.000000</td>\n",
       "      <td>30.000000</td>\n",
       "      <td>25.000000</td>\n",
       "    </tr>\n",
       "    <tr>\n",
       "      <th>75%</th>\n",
       "      <td>102.000000</td>\n",
       "      <td>99.000000</td>\n",
       "      <td>112.000000</td>\n",
       "      <td>128.000000</td>\n",
       "      <td>144.000000</td>\n",
       "      <td>162.000000</td>\n",
       "      <td>160.00000</td>\n",
       "      <td>59.000000</td>\n",
       "      <td>56.000000</td>\n",
       "      <td>64.000000</td>\n",
       "      <td>...</td>\n",
       "      <td>1.090909</td>\n",
       "      <td>1.090909</td>\n",
       "      <td>103.000000</td>\n",
       "      <td>100.000000</td>\n",
       "      <td>113.000000</td>\n",
       "      <td>128.000000</td>\n",
       "      <td>145.000000</td>\n",
       "      <td>163.000000</td>\n",
       "      <td>161.000000</td>\n",
       "      <td>136.000000</td>\n",
       "    </tr>\n",
       "    <tr>\n",
       "      <th>max</th>\n",
       "      <td>17167.000000</td>\n",
       "      <td>14108.000000</td>\n",
       "      <td>18643.000000</td>\n",
       "      <td>22077.000000</td>\n",
       "      <td>23557.000000</td>\n",
       "      <td>27761.000000</td>\n",
       "      <td>27186.00000</td>\n",
       "      <td>6205.000000</td>\n",
       "      <td>6527.000000</td>\n",
       "      <td>8636.000000</td>\n",
       "      <td>...</td>\n",
       "      <td>239.000000</td>\n",
       "      <td>272.000000</td>\n",
       "      <td>17201.000000</td>\n",
       "      <td>14108.000000</td>\n",
       "      <td>18644.000000</td>\n",
       "      <td>22078.000000</td>\n",
       "      <td>23564.000000</td>\n",
       "      <td>27761.000000</td>\n",
       "      <td>27186.000000</td>\n",
       "      <td>28245.000000</td>\n",
       "    </tr>\n",
       "  </tbody>\n",
       "</table>\n",
       "<p>8 rows × 78 columns</p>\n",
       "</div>"
      ],
      "text/plain": [
       "                 0             1             2             3             4   \\\n",
       "count  58325.000000  58325.000000  58325.000000  58325.000000  58325.000000   \n",
       "mean     140.126584    136.868838    156.955062    179.682486    199.257900   \n",
       "std      425.052920    416.511587    469.547561    539.438199    588.746167   \n",
       "min        0.000000      0.000000      0.000000      0.000000      0.000000   \n",
       "25%        3.000000      3.000000      4.000000      4.000000      5.000000   \n",
       "50%       18.000000     17.000000     21.000000     23.000000     26.000000   \n",
       "75%      102.000000     99.000000    112.000000    128.000000    144.000000   \n",
       "max    17167.000000  14108.000000  18643.000000  22077.000000  23557.000000   \n",
       "\n",
       "                 5            6             7             8             9   \\\n",
       "count  58325.000000  58325.00000  58325.000000  58325.000000  58325.000000   \n",
       "mean     219.211916    219.45658     70.923858     70.036348     80.801200   \n",
       "std      644.738019    667.18355    191.186827    192.935438    220.429714   \n",
       "min        0.000000      0.00000      0.000000      0.000000      0.000000   \n",
       "25%        6.000000      6.00000      2.000000      2.000000      2.000000   \n",
       "50%       31.000000     30.00000     11.000000     11.000000     13.000000   \n",
       "75%      162.000000    160.00000     59.000000     56.000000     64.000000   \n",
       "max    27761.000000  27186.00000   6205.000000   6527.000000   8636.000000   \n",
       "\n",
       "           ...                 68            69            70            71  \\\n",
       "count      ...       58325.000000  58325.000000  58325.000000  58325.000000   \n",
       "mean       ...           1.133875      1.140817    140.573579    137.277274   \n",
       "std        ...           1.489686      1.662931    425.847933    417.199651   \n",
       "min        ...           0.000000      0.000000      0.000000      0.000000   \n",
       "25%        ...           1.000000      1.000000      3.000000      3.000000   \n",
       "50%        ...           1.000000      1.000000     18.000000     17.000000   \n",
       "75%        ...           1.090909      1.090909    103.000000    100.000000   \n",
       "max        ...         239.000000    272.000000  17201.000000  14108.000000   \n",
       "\n",
       "                 72            73            74            75            76  \\\n",
       "count  58325.000000  58325.000000  58325.000000  58325.000000  58325.000000   \n",
       "mean     157.381054    180.146198    199.754942    219.741826    220.006738   \n",
       "std      470.259535    540.189760    589.515545    645.517799    667.965136   \n",
       "min        0.000000      0.000000      0.000000      0.000000      0.000000   \n",
       "25%        4.000000      4.000000      5.000000      6.000000      6.000000   \n",
       "50%       21.000000     23.000000     26.000000     31.000000     30.000000   \n",
       "75%      113.000000    128.000000    145.000000    163.000000    161.000000   \n",
       "max    18644.000000  22078.000000  23564.000000  27761.000000  27186.000000   \n",
       "\n",
       "                 77  \n",
       "count  58325.000000  \n",
       "mean     191.189138  \n",
       "std      611.995332  \n",
       "min        0.000000  \n",
       "25%        4.500000  \n",
       "50%       25.000000  \n",
       "75%      136.000000  \n",
       "max    28245.000000  \n",
       "\n",
       "[8 rows x 78 columns]"
      ]
     },
     "execution_count": 5,
     "metadata": {},
     "output_type": "execute_result"
    }
   ],
   "source": [
    "tenthOfDataFrame.describe()"
   ]
  },
  {
   "cell_type": "code",
   "execution_count": 6,
   "metadata": {},
   "outputs": [
    {
     "data": {
      "text/plain": [
       "(58325, 78)"
      ]
     },
     "execution_count": 6,
     "metadata": {},
     "output_type": "execute_result"
    }
   ],
   "source": [
    "tenthOfDataFrame.shape"
   ]
  },
  {
   "cell_type": "code",
   "execution_count": 7,
   "metadata": {},
   "outputs": [
    {
     "data": {
      "text/html": [
       "<div>\n",
       "<style scoped>\n",
       "    .dataframe tbody tr th:only-of-type {\n",
       "        vertical-align: middle;\n",
       "    }\n",
       "\n",
       "    .dataframe tbody tr th {\n",
       "        vertical-align: top;\n",
       "    }\n",
       "\n",
       "    .dataframe thead th {\n",
       "        text-align: right;\n",
       "    }\n",
       "</style>\n",
       "<table border=\"1\" class=\"dataframe\">\n",
       "  <thead>\n",
       "    <tr style=\"text-align: right;\">\n",
       "      <th></th>\n",
       "      <th>0</th>\n",
       "      <th>1</th>\n",
       "      <th>2</th>\n",
       "      <th>3</th>\n",
       "      <th>4</th>\n",
       "      <th>5</th>\n",
       "      <th>6</th>\n",
       "      <th>7</th>\n",
       "      <th>8</th>\n",
       "      <th>9</th>\n",
       "      <th>...</th>\n",
       "      <th>68</th>\n",
       "      <th>69</th>\n",
       "      <th>70</th>\n",
       "      <th>71</th>\n",
       "      <th>72</th>\n",
       "      <th>73</th>\n",
       "      <th>74</th>\n",
       "      <th>75</th>\n",
       "      <th>76</th>\n",
       "      <th>77</th>\n",
       "    </tr>\n",
       "  </thead>\n",
       "  <tbody>\n",
       "    <tr>\n",
       "      <th>0</th>\n",
       "      <td>0</td>\n",
       "      <td>4</td>\n",
       "      <td>2</td>\n",
       "      <td>0</td>\n",
       "      <td>0</td>\n",
       "      <td>14</td>\n",
       "      <td>3</td>\n",
       "      <td>0</td>\n",
       "      <td>2</td>\n",
       "      <td>1</td>\n",
       "      <td>...</td>\n",
       "      <td>1.000000</td>\n",
       "      <td>1.000000</td>\n",
       "      <td>0</td>\n",
       "      <td>4</td>\n",
       "      <td>2</td>\n",
       "      <td>0</td>\n",
       "      <td>0</td>\n",
       "      <td>14</td>\n",
       "      <td>3</td>\n",
       "      <td>21.5</td>\n",
       "    </tr>\n",
       "    <tr>\n",
       "      <th>1</th>\n",
       "      <td>12</td>\n",
       "      <td>14</td>\n",
       "      <td>12</td>\n",
       "      <td>15</td>\n",
       "      <td>37</td>\n",
       "      <td>36</td>\n",
       "      <td>43</td>\n",
       "      <td>9</td>\n",
       "      <td>8</td>\n",
       "      <td>3</td>\n",
       "      <td>...</td>\n",
       "      <td>1.055556</td>\n",
       "      <td>1.023256</td>\n",
       "      <td>12</td>\n",
       "      <td>14</td>\n",
       "      <td>12</td>\n",
       "      <td>15</td>\n",
       "      <td>37</td>\n",
       "      <td>36</td>\n",
       "      <td>43</td>\n",
       "      <td>37.0</td>\n",
       "    </tr>\n",
       "    <tr>\n",
       "      <th>2</th>\n",
       "      <td>111</td>\n",
       "      <td>123</td>\n",
       "      <td>172</td>\n",
       "      <td>106</td>\n",
       "      <td>198</td>\n",
       "      <td>312</td>\n",
       "      <td>130</td>\n",
       "      <td>63</td>\n",
       "      <td>53</td>\n",
       "      <td>109</td>\n",
       "      <td>...</td>\n",
       "      <td>1.003205</td>\n",
       "      <td>1.000000</td>\n",
       "      <td>111</td>\n",
       "      <td>123</td>\n",
       "      <td>172</td>\n",
       "      <td>107</td>\n",
       "      <td>201</td>\n",
       "      <td>312</td>\n",
       "      <td>130</td>\n",
       "      <td>119.0</td>\n",
       "    </tr>\n",
       "    <tr>\n",
       "      <th>3</th>\n",
       "      <td>23</td>\n",
       "      <td>12</td>\n",
       "      <td>23</td>\n",
       "      <td>20</td>\n",
       "      <td>23</td>\n",
       "      <td>39</td>\n",
       "      <td>33</td>\n",
       "      <td>18</td>\n",
       "      <td>12</td>\n",
       "      <td>19</td>\n",
       "      <td>...</td>\n",
       "      <td>1.025641</td>\n",
       "      <td>1.000000</td>\n",
       "      <td>24</td>\n",
       "      <td>12</td>\n",
       "      <td>23</td>\n",
       "      <td>20</td>\n",
       "      <td>23</td>\n",
       "      <td>39</td>\n",
       "      <td>33</td>\n",
       "      <td>32.5</td>\n",
       "    </tr>\n",
       "    <tr>\n",
       "      <th>4</th>\n",
       "      <td>13</td>\n",
       "      <td>108</td>\n",
       "      <td>35</td>\n",
       "      <td>43</td>\n",
       "      <td>19</td>\n",
       "      <td>63</td>\n",
       "      <td>66</td>\n",
       "      <td>11</td>\n",
       "      <td>81</td>\n",
       "      <td>25</td>\n",
       "      <td>...</td>\n",
       "      <td>1.000000</td>\n",
       "      <td>1.000000</td>\n",
       "      <td>13</td>\n",
       "      <td>108</td>\n",
       "      <td>35</td>\n",
       "      <td>43</td>\n",
       "      <td>19</td>\n",
       "      <td>63</td>\n",
       "      <td>66</td>\n",
       "      <td>38.0</td>\n",
       "    </tr>\n",
       "    <tr>\n",
       "      <th>5</th>\n",
       "      <td>55</td>\n",
       "      <td>83</td>\n",
       "      <td>76</td>\n",
       "      <td>62</td>\n",
       "      <td>56</td>\n",
       "      <td>92</td>\n",
       "      <td>85</td>\n",
       "      <td>34</td>\n",
       "      <td>64</td>\n",
       "      <td>51</td>\n",
       "      <td>...</td>\n",
       "      <td>1.000000</td>\n",
       "      <td>1.011765</td>\n",
       "      <td>55</td>\n",
       "      <td>83</td>\n",
       "      <td>77</td>\n",
       "      <td>62</td>\n",
       "      <td>56</td>\n",
       "      <td>92</td>\n",
       "      <td>85</td>\n",
       "      <td>92.0</td>\n",
       "    </tr>\n",
       "    <tr>\n",
       "      <th>6</th>\n",
       "      <td>488</td>\n",
       "      <td>539</td>\n",
       "      <td>735</td>\n",
       "      <td>621</td>\n",
       "      <td>646</td>\n",
       "      <td>779</td>\n",
       "      <td>496</td>\n",
       "      <td>348</td>\n",
       "      <td>364</td>\n",
       "      <td>448</td>\n",
       "      <td>...</td>\n",
       "      <td>1.057766</td>\n",
       "      <td>1.074297</td>\n",
       "      <td>490</td>\n",
       "      <td>540</td>\n",
       "      <td>738</td>\n",
       "      <td>621</td>\n",
       "      <td>647</td>\n",
       "      <td>779</td>\n",
       "      <td>498</td>\n",
       "      <td>755.0</td>\n",
       "    </tr>\n",
       "    <tr>\n",
       "      <th>7</th>\n",
       "      <td>1</td>\n",
       "      <td>4</td>\n",
       "      <td>7</td>\n",
       "      <td>7</td>\n",
       "      <td>9</td>\n",
       "      <td>3</td>\n",
       "      <td>13</td>\n",
       "      <td>1</td>\n",
       "      <td>1</td>\n",
       "      <td>6</td>\n",
       "      <td>...</td>\n",
       "      <td>1.000000</td>\n",
       "      <td>1.000000</td>\n",
       "      <td>1</td>\n",
       "      <td>4</td>\n",
       "      <td>7</td>\n",
       "      <td>7</td>\n",
       "      <td>9</td>\n",
       "      <td>3</td>\n",
       "      <td>13</td>\n",
       "      <td>3.0</td>\n",
       "    </tr>\n",
       "    <tr>\n",
       "      <th>8</th>\n",
       "      <td>6</td>\n",
       "      <td>4</td>\n",
       "      <td>4</td>\n",
       "      <td>7</td>\n",
       "      <td>7</td>\n",
       "      <td>8</td>\n",
       "      <td>7</td>\n",
       "      <td>5</td>\n",
       "      <td>2</td>\n",
       "      <td>4</td>\n",
       "      <td>...</td>\n",
       "      <td>1.000000</td>\n",
       "      <td>1.142857</td>\n",
       "      <td>6</td>\n",
       "      <td>4</td>\n",
       "      <td>4</td>\n",
       "      <td>7</td>\n",
       "      <td>7</td>\n",
       "      <td>8</td>\n",
       "      <td>7</td>\n",
       "      <td>4.5</td>\n",
       "    </tr>\n",
       "    <tr>\n",
       "      <th>9</th>\n",
       "      <td>1</td>\n",
       "      <td>6</td>\n",
       "      <td>8</td>\n",
       "      <td>4</td>\n",
       "      <td>5</td>\n",
       "      <td>8</td>\n",
       "      <td>5</td>\n",
       "      <td>0</td>\n",
       "      <td>2</td>\n",
       "      <td>1</td>\n",
       "      <td>...</td>\n",
       "      <td>1.000000</td>\n",
       "      <td>1.000000</td>\n",
       "      <td>1</td>\n",
       "      <td>6</td>\n",
       "      <td>8</td>\n",
       "      <td>4</td>\n",
       "      <td>5</td>\n",
       "      <td>8</td>\n",
       "      <td>5</td>\n",
       "      <td>4.5</td>\n",
       "    </tr>\n",
       "  </tbody>\n",
       "</table>\n",
       "<p>10 rows × 78 columns</p>\n",
       "</div>"
      ],
      "text/plain": [
       "    0    1    2    3    4    5    6    7    8    9   ...          68  \\\n",
       "0    0    4    2    0    0   14    3    0    2    1  ...    1.000000   \n",
       "1   12   14   12   15   37   36   43    9    8    3  ...    1.055556   \n",
       "2  111  123  172  106  198  312  130   63   53  109  ...    1.003205   \n",
       "3   23   12   23   20   23   39   33   18   12   19  ...    1.025641   \n",
       "4   13  108   35   43   19   63   66   11   81   25  ...    1.000000   \n",
       "5   55   83   76   62   56   92   85   34   64   51  ...    1.000000   \n",
       "6  488  539  735  621  646  779  496  348  364  448  ...    1.057766   \n",
       "7    1    4    7    7    9    3   13    1    1    6  ...    1.000000   \n",
       "8    6    4    4    7    7    8    7    5    2    4  ...    1.000000   \n",
       "9    1    6    8    4    5    8    5    0    2    1  ...    1.000000   \n",
       "\n",
       "         69   70   71   72   73   74   75   76     77  \n",
       "0  1.000000    0    4    2    0    0   14    3   21.5  \n",
       "1  1.023256   12   14   12   15   37   36   43   37.0  \n",
       "2  1.000000  111  123  172  107  201  312  130  119.0  \n",
       "3  1.000000   24   12   23   20   23   39   33   32.5  \n",
       "4  1.000000   13  108   35   43   19   63   66   38.0  \n",
       "5  1.011765   55   83   77   62   56   92   85   92.0  \n",
       "6  1.074297  490  540  738  621  647  779  498  755.0  \n",
       "7  1.000000    1    4    7    7    9    3   13    3.0  \n",
       "8  1.142857    6    4    4    7    7    8    7    4.5  \n",
       "9  1.000000    1    6    8    4    5    8    5    4.5  \n",
       "\n",
       "[10 rows x 78 columns]"
      ]
     },
     "execution_count": 7,
     "metadata": {},
     "output_type": "execute_result"
    }
   ],
   "source": [
    "tenthOfDataFrame.head(10)"
   ]
  },
  {
   "cell_type": "code",
   "execution_count": 8,
   "metadata": {},
   "outputs": [],
   "source": [
    "import warnings\n",
    "from sklearn.preprocessing import StandardScaler\n",
    "from sklearn.model_selection import train_test_split\n",
    "from sklearn.preprocessing import RobustScaler\n",
    "warnings.filterwarnings('ignore')"
   ]
  },
  {
   "cell_type": "code",
   "execution_count": 9,
   "metadata": {},
   "outputs": [],
   "source": [
    "X = tenthOfDataFrame.iloc[:,:77]\n",
    "y = tenthOfDataFrame.iloc[:,77]"
   ]
  },
  {
   "cell_type": "code",
   "execution_count": 10,
   "metadata": {},
   "outputs": [],
   "source": [
    "# X_train, X_test, y_train, y_test = train_test_split(X, y, random_state=0)\n",
    "# scaler = StandardScaler()\n",
    "# X_train = scaler.fit_transform(X_train)\n",
    "# X_test = scaler.transform(X_test)"
   ]
  },
  {
   "cell_type": "code",
   "execution_count": 11,
   "metadata": {},
   "outputs": [],
   "source": [
    "X_train, X_test, y_train, y_test = train_test_split(X, y, random_state=0)\n",
    "scaler = RobustScaler()\n",
    "X_train = scaler.fit_transform(X_train)\n",
    "X_test = scaler.transform(X_test)"
   ]
  },
  {
   "cell_type": "markdown",
   "metadata": {},
   "source": [
    "# Decision Tree Regressor with Adaboost Boosting"
   ]
  },
  {
   "cell_type": "code",
   "execution_count": 12,
   "metadata": {},
   "outputs": [],
   "source": [
    "from sklearn.ensemble import AdaBoostRegressor\n",
    "from sklearn.tree import DecisionTreeRegressor"
   ]
  },
  {
   "cell_type": "code",
   "execution_count": 13,
   "metadata": {},
   "outputs": [
    {
     "data": {
      "text/plain": [
       "AdaBoostRegressor(base_estimator=DecisionTreeRegressor(criterion='mse', max_depth=5, max_features='sqrt',\n",
       "           max_leaf_nodes=None, min_impurity_decrease=0.0,\n",
       "           min_impurity_split=None, min_samples_leaf=1,\n",
       "           min_samples_split=3, min_weight_fraction_leaf=0.0,\n",
       "           presort=False, random_state=None, splitter='random'),\n",
       "         learning_rate=0.05, loss='square', n_estimators=2000,\n",
       "         random_state=None)"
      ]
     },
     "execution_count": 13,
     "metadata": {},
     "output_type": "execute_result"
    }
   ],
   "source": [
    "decisionTreeRegressor = DecisionTreeRegressor(max_features='sqrt', splitter='random', min_samples_split=3, max_depth=5)\n",
    "adaboostRegressor = AdaBoostRegressor(decisionTreeRegressor, learning_rate=0.05, loss='square', n_estimators = 2000)\n",
    "adaboostRegressor.fit(X_train, y_train)"
   ]
  },
  {
   "cell_type": "code",
   "execution_count": 14,
   "metadata": {},
   "outputs": [],
   "source": [
    "adaboostTrainScore = adaboostRegressor.score(X_train,y_train)\n",
    "adaboostTestScore = adaboostRegressor.score(X_test,y_test)"
   ]
  },
  {
   "cell_type": "code",
   "execution_count": 15,
   "metadata": {},
   "outputs": [
    {
     "data": {
      "text/html": [
       "<div>\n",
       "<style scoped>\n",
       "    .dataframe tbody tr th:only-of-type {\n",
       "        vertical-align: middle;\n",
       "    }\n",
       "\n",
       "    .dataframe tbody tr th {\n",
       "        vertical-align: top;\n",
       "    }\n",
       "\n",
       "    .dataframe thead th {\n",
       "        text-align: right;\n",
       "    }\n",
       "</style>\n",
       "<table border=\"1\" class=\"dataframe\">\n",
       "  <thead>\n",
       "    <tr style=\"text-align: right;\">\n",
       "      <th></th>\n",
       "      <th>Model</th>\n",
       "      <th>Parameter</th>\n",
       "      <th>Train Score</th>\n",
       "      <th>Test Score</th>\n",
       "    </tr>\n",
       "  </thead>\n",
       "  <tbody>\n",
       "    <tr>\n",
       "      <th>0</th>\n",
       "      <td>Decision Tree Regressor with Adaboost Boosting</td>\n",
       "      <td>[DecisionTreeRegressor(criterion='mse', max_de...</td>\n",
       "      <td>0.69572</td>\n",
       "      <td>0.631801</td>\n",
       "    </tr>\n",
       "  </tbody>\n",
       "</table>\n",
       "</div>"
      ],
      "text/plain": [
       "                                            Model  \\\n",
       "0  Decision Tree Regressor with Adaboost Boosting   \n",
       "\n",
       "                                           Parameter  Train Score  Test Score  \n",
       "0  [DecisionTreeRegressor(criterion='mse', max_de...      0.69572    0.631801  "
      ]
     },
     "execution_count": 15,
     "metadata": {},
     "output_type": "execute_result"
    }
   ],
   "source": [
    "adaboostReport= [['Decision Tree Regressor with Adaboost Boosting',adaboostRegressor.estimators_,adaboostTrainScore,adaboostTestScore]]\n",
    "columnNames = ['Model','Parameter','Train Score','Test Score']\n",
    "pd.DataFrame(adaboostReport,columns=columnNames)"
   ]
  },
  {
   "cell_type": "markdown",
   "metadata": {},
   "source": [
    "# Random Forest Regressor - Adaboosting Boosting "
   ]
  },
  {
   "cell_type": "code",
   "execution_count": 16,
   "metadata": {},
   "outputs": [],
   "source": [
    "from sklearn.ensemble import AdaBoostRegressor\n",
    "from sklearn.ensemble import RandomForestRegressor"
   ]
  },
  {
   "cell_type": "code",
   "execution_count": null,
   "metadata": {},
   "outputs": [],
   "source": [
    "randomForestRegressor = RandomForestRegressor(max_features=4, min_samples_split=4, n_estimators=75, min_samples_leaf=3)\n",
    "randomAdaboost = AdaBoostRegressor(randomForestRegressor, learning_rate=0.05, loss='square', n_estimators=2000)\n",
    "randomAdaboost.fit(X_train, y_train)"
   ]
  },
  {
   "cell_type": "code",
   "execution_count": null,
   "metadata": {},
   "outputs": [],
   "source": [
    "randomAdaboostTrainScore = randomAdaboost.score(X_train,y_train)\n",
    "randomAdaboostTestScore = randomAdaboost.score(X_test,y_test)"
   ]
  },
  {
   "cell_type": "markdown",
   "metadata": {},
   "source": [
    "# Gradient Boosting Regressor"
   ]
  },
  {
   "cell_type": "code",
   "execution_count": null,
   "metadata": {
    "scrolled": true
   },
   "outputs": [],
   "source": [
    "from  sklearn.ensemble import GradientBoostingRegressor\n",
    "from sklearn.model_selection import GridSearchCV"
   ]
  },
  {
   "cell_type": "code",
   "execution_count": null,
   "metadata": {},
   "outputs": [],
   "source": [
    "gradParamGrid = {'n_estimators':range(4,8),'max_depth': range(2,5),'learning_rate':[0.1, 0.05, 0.02],'random_state' : [1]}\n",
    "gradGridSearch = GridSearchCV(GradientBoostingRegressor(),gradParamGrid,cv=5,return_train_score=True)\n",
    "gradGridSearch.fit(X_train, y_train)"
   ]
  },
  {
   "cell_type": "code",
   "execution_count": null,
   "metadata": {},
   "outputs": [],
   "source": [
    "gradTrainScore = gradGridSearch.score(X_train,y_train)\n",
    "gradTestScore = gradGridSearch.score(X_test,y_test)"
   ]
  },
  {
   "cell_type": "code",
   "execution_count": null,
   "metadata": {},
   "outputs": [],
   "source": [
    "gradReport= [['Gradient Boosting Regressor',gradGridSearch.best_params_,gradTrainScore,gradTestScore]]\n",
    "columnNames = ['Model','Parameter','Train Score','Test Score']\n",
    "pd.DataFrame(gradReport,columns = columnNames)"
   ]
  },
  {
   "cell_type": "markdown",
   "metadata": {},
   "source": [
    "# PCA"
   ]
  },
  {
   "cell_type": "code",
   "execution_count": null,
   "metadata": {},
   "outputs": [],
   "source": [
    "from sklearn.decomposition import PCA"
   ]
  },
  {
   "cell_type": "code",
   "execution_count": null,
   "metadata": {},
   "outputs": [],
   "source": [
    "pca = PCA(n_components = 0.95, whiten = True)\n",
    "pca.fit(X_train)"
   ]
  },
  {
   "cell_type": "code",
   "execution_count": null,
   "metadata": {},
   "outputs": [],
   "source": [
    "cumulativeVariances = np.cumsum(np.round(pca.explained_variance_ratio_*100, decimals=1))\n",
    "plt.plot(cumulativeVariances)"
   ]
  },
  {
   "cell_type": "code",
   "execution_count": null,
   "metadata": {},
   "outputs": [],
   "source": [
    "pca_X_train = pca.transform(X_train)\n",
    "pca_X_test = pca.transform(X_test)\n",
    "print('Train Shape after PCA',pca_X_train.shape[1])\n",
    "print('Test Shape after PCA',pca_X_test.shape[1])"
   ]
  },
  {
   "cell_type": "markdown",
   "metadata": {},
   "source": [
    "# PCA : KNeighborsRegressor"
   ]
  },
  {
   "cell_type": "code",
   "execution_count": null,
   "metadata": {},
   "outputs": [],
   "source": [
    "from sklearn.neighbors import KNeighborsRegressor\n",
    "from sklearn.model_selection import GridSearchCV\n",
    "knnParams = {'n_neighbors':range(3,9)}\n",
    "knnGridSearch = GridSearchCV(KNeighborsRegressor(), knnParams, cv=5, return_train_score=True)\n",
    "knnGridSearch.fit(pca_X_train, y_train)"
   ]
  },
  {
   "cell_type": "code",
   "execution_count": null,
   "metadata": {},
   "outputs": [],
   "source": [
    "knnTrainScore = knnGridSearch.score(pca_X_train,y_train)\n",
    "knnTestScore = knnGridSearch.score(pca_X_test,y_test)"
   ]
  },
  {
   "cell_type": "code",
   "execution_count": null,
   "metadata": {},
   "outputs": [],
   "source": [
    "knnReport = [['KNeighborsRegressor', knnGridSearch.best_params_, knnTrainScore, knnTestScore]]\n",
    "pd.DataFrame(knnReport, columns=['Regression Task', 'Parameter','Train Score', 'Test Score'])"
   ]
  },
  {
   "cell_type": "code",
   "execution_count": null,
   "metadata": {},
   "outputs": [],
   "source": [
    "%matplotlib inline\n",
    "import matplotlib.pyplot as plt"
   ]
  },
  {
   "cell_type": "code",
   "execution_count": null,
   "metadata": {},
   "outputs": [],
   "source": [
    "neighbors = [dict['n_neighbors'] for dict in knnGridSearch.cv_results_['params']]\n",
    "plt.figure(figsize=(11, 6))\n",
    "plt.plot(neighbors, knnGridSearch.cv_results_['mean_test_score'], label = 'Test Score', c = 'g')\n",
    "plt.plot(neighbors, knnGridSearch.cv_results_['mean_train_score'], label = 'Train Score', c = 'r')\n",
    "plt.xlabel('Neighbors(K)')\n",
    "plt.ylabel('Average Score by Cross-Validation')\n",
    "plt.title('KNeighborsRegressor')\n",
    "plt.legend()"
   ]
  },
  {
   "cell_type": "code",
   "execution_count": null,
   "metadata": {},
   "outputs": [],
   "source": [
    "knnTrainScore = knnGridSearch.score(pca_X_train,y_train)\n",
    "knnTestScore = knnGridSearch.score(pca_X_test,y_test)"
   ]
  },
  {
   "cell_type": "code",
   "execution_count": null,
   "metadata": {},
   "outputs": [],
   "source": [
    "knnReport = [['KNeighborsRegressor', knnGridSearch.best_params_, knnTrainScore, knnTestScore]]\n",
    "pd.DataFrame(knnReport, columns=['Regression Task', 'Parameter','Train Score', 'Test Score'])"
   ]
  },
  {
   "cell_type": "markdown",
   "metadata": {},
   "source": [
    "# LinearRegression"
   ]
  },
  {
   "cell_type": "code",
   "execution_count": null,
   "metadata": {},
   "outputs": [],
   "source": [
    "from sklearn.linear_model import LinearRegression\n",
    "LinearReg = LinearRegression()\n",
    "LinearReg.fit(pca_X_train, y_train)\n",
    "LinearRegTrainScore = round(LinearReg.score(pca_X_train, y_train), 5)\n",
    "LinearRegTestScore = round(LinearReg.score(pca_X_test, y_test), 5)"
   ]
  },
  {
   "cell_type": "code",
   "execution_count": null,
   "metadata": {},
   "outputs": [],
   "source": [
    "LinearRegReport = [['LinearRegression','',LinearRegTrainScore, LinearRegTestScore]]\n",
    "pd.DataFrame(LinearRegReport, columns=['Regression Task', 'Parameter','Train Score', 'Test Score'])"
   ]
  },
  {
   "cell_type": "markdown",
   "metadata": {},
   "source": [
    "#  Ridge"
   ]
  },
  {
   "cell_type": "code",
   "execution_count": null,
   "metadata": {},
   "outputs": [],
   "source": [
    "from sklearn.linear_model import Ridge"
   ]
  },
  {
   "cell_type": "code",
   "execution_count": null,
   "metadata": {},
   "outputs": [],
   "source": [
    "ridgeTrainArray = []\n",
    "ridgeTestArray = []"
   ]
  },
  {
   "cell_type": "code",
   "execution_count": null,
   "metadata": {},
   "outputs": [],
   "source": [
    "ridgeParams = {'alpha':[0.01,0.1,1,10,100]}\n",
    "ridgeGridSearch = GridSearchCV(Ridge(), ridgeParams, cv=5, return_train_score=True)\n",
    "ridgeGridSearch.fit(pca_X_train, y_train)"
   ]
  },
  {
   "cell_type": "code",
   "execution_count": null,
   "metadata": {},
   "outputs": [],
   "source": [
    "ridgeTrainScore = ridgeGridSearch.score(pca_X_train, y_train)\n",
    "ridgeTestScore = ridgeGridSearch.score(pca_X_test, y_test)\n",
    "ridgeBestParam = ridgeGridSearch.best_params_"
   ]
  },
  {
   "cell_type": "code",
   "execution_count": null,
   "metadata": {},
   "outputs": [],
   "source": [
    "ridgeParamValues = [dict['alpha'] for dict in ridgeGridSearch.cv_results_['params']]\n",
    "plt.plot(ridgeParamValues,ridgeGridSearch.cv_results_['mean_train_score'])\n",
    "plt.xscale('log')"
   ]
  },
  {
   "cell_type": "code",
   "execution_count": null,
   "metadata": {},
   "outputs": [],
   "source": [
    "plt.plot(ridgeParamValues,ridgeGridSearch.cv_results_['mean_test_score'])"
   ]
  },
  {
   "cell_type": "code",
   "execution_count": null,
   "metadata": {},
   "outputs": [],
   "source": [
    "ridge_report = [['Ridge',ridgeBestParam,ridgeTrainScore,ridgeTestScore]]\n",
    "pd.DataFrame(ridge_report,columns=['Regression Task', 'Parameter','Train Score', 'Test Score'])"
   ]
  },
  {
   "cell_type": "markdown",
   "metadata": {},
   "source": [
    "# Lasso"
   ]
  },
  {
   "cell_type": "code",
   "execution_count": null,
   "metadata": {},
   "outputs": [],
   "source": [
    "from sklearn.linear_model import Lasso\n",
    "lasso_param={'alpha':[2,5,10,100]}\n",
    "lasso_grid_search = GridSearchCV(Lasso(),lasso_param,cv=5,return_train_score=True)\n",
    "lasso_grid_search.fit(pca_X_train,y_train)"
   ]
  },
  {
   "cell_type": "code",
   "execution_count": null,
   "metadata": {},
   "outputs": [],
   "source": [
    "lasso_train_score = lasso_grid_search.score(pca_X_train,y_train)\n",
    "lasso_test_score = lasso_grid_search.score(pca_X_test, y_test)\n",
    "lasso_param = lasso_grid_search.best_params_"
   ]
  },
  {
   "cell_type": "code",
   "execution_count": null,
   "metadata": {},
   "outputs": [],
   "source": [
    "lasso_param_values = [dict['alpha'] for dict in lasso_grid_search.cv_results_['params']]\n",
    "plt.plot(lasso_param_values,lasso_grid_search.cv_results_['mean_train_score'])\n",
    "plt.xscale('log')\n",
    "plt.plot(lasso_param_values,lasso_grid_search.cv_results_['mean_test_score'])"
   ]
  },
  {
   "cell_type": "code",
   "execution_count": null,
   "metadata": {},
   "outputs": [],
   "source": [
    "lasso_report = [['Lasso',lasso_param,lasso_train_score,lasso_test_score]]\n",
    "pd.DataFrame(lasso_report,columns=['Regression Task', 'Parameter','Train Score', 'Test Score'])"
   ]
  },
  {
   "cell_type": "markdown",
   "metadata": {},
   "source": [
    "# Polynomial Regression"
   ]
  },
  {
   "cell_type": "code",
   "execution_count": null,
   "metadata": {},
   "outputs": [],
   "source": [
    "from sklearn.preprocessing import PolynomialFeatures\n",
    "from sklearn.pipeline import Pipeline\n",
    "pipe = Pipeline([('poly',PolynomialFeatures()),('linreg',LinearRegression())])"
   ]
  },
  {
   "cell_type": "code",
   "execution_count": null,
   "metadata": {},
   "outputs": [],
   "source": [
    "poly_param = {'poly__degree':[2,3]}\n",
    "poly_grid_search = GridSearchCV(pipe,poly_param,cv=5,return_train_score=True)\n",
    "poly_grid_search.fit(pca_X_train,y_train)"
   ]
  },
  {
   "cell_type": "code",
   "execution_count": null,
   "metadata": {},
   "outputs": [],
   "source": [
    "poly_train_score = poly_grid_search.score(pca_X_train,y_train)\n",
    "poly_test_score = poly_grid_search.score(pca_X_test, y_test)\n",
    "poly_param = poly_grid_search.best_params_"
   ]
  },
  {
   "cell_type": "code",
   "execution_count": null,
   "metadata": {},
   "outputs": [],
   "source": [
    "poly_report = [['Polynomial Regression',poly_param,poly_train_score,poly_test_score]]\n",
    "pd.DataFrame(poly_report,columns=['Regression Task', 'Parameter','Train Score', 'Test Score'])"
   ]
  },
  {
   "cell_type": "markdown",
   "metadata": {},
   "source": [
    "# Linear SVR"
   ]
  },
  {
   "cell_type": "code",
   "execution_count": null,
   "metadata": {},
   "outputs": [],
   "source": [
    "from sklearn.svm import LinearSVR\n",
    "linsvr_param={'C':[0.01,0.1,1,10,100]}\n",
    "linsvr_grid_search = GridSearchCV(LinearSVR(),linsvr_param,cv=5,return_train_score=True)\n",
    "linsvr_grid_search.fit(pca_X_train,y_train)"
   ]
  },
  {
   "cell_type": "code",
   "execution_count": null,
   "metadata": {},
   "outputs": [],
   "source": [
    "linsvr_train_score = linsvr_grid_search.score(pca_X_train,y_train)\n",
    "linsvr_test_score = linsvr_grid_search.score(pca_X_test,y_test)\n",
    "linsvr_params = linsvr_grid_search.best_params_"
   ]
  },
  {
   "cell_type": "code",
   "execution_count": null,
   "metadata": {},
   "outputs": [],
   "source": [
    "linsvr_report = [['Linear SVR',linsvr_params,linsvr_train_score,linsvr_test_score]]\n",
    "pd.DataFrame(linsvr_report,columns=['Regression Task', 'Parameter','Train Score', 'Test Score'])"
   ]
  },
  {
   "cell_type": "markdown",
   "metadata": {},
   "source": [
    "# RBF SVR"
   ]
  },
  {
   "cell_type": "code",
   "execution_count": null,
   "metadata": {},
   "outputs": [],
   "source": [
    "from sklearn.svm import SVR\n",
    "rbfsvr_param={'C':[0.01,0.1,1,10,100], 'gamma':[0.01,0.1,1,10,100]}\n",
    "rbfsvr_grid_search = GridSearchCV(SVR(kernel='rbf'),rbfsvr_param,cv=5,return_train_score=True)\n",
    "rbfsvr_grid_search.fit(X_train,y_train)"
   ]
  },
  {
   "cell_type": "code",
   "execution_count": null,
   "metadata": {},
   "outputs": [],
   "source": [
    "rbfsvr_train_score = rbfsvr_grid_search.score(X_train,y_train)\n",
    "rbfsvr_test_score = rbfsvr_grid_search.score(X_test,y_test)\n",
    "rbfsvr_params = rbfsvr_grid_search.best_params_"
   ]
  },
  {
   "cell_type": "code",
   "execution_count": null,
   "metadata": {},
   "outputs": [],
   "source": [
    "rbfsvr_report = [['RBF SVR',rbfsvr_params,rbfsvr_train_score,rbfsvr_test_score]]\n",
    "pd.DataFrame(rbfsvr_report,columns=['Regression Task', 'Parameter','Train Score', 'Test Score'])"
   ]
  },
  {
   "cell_type": "markdown",
   "metadata": {},
   "source": [
    "# Final Report"
   ]
  },
  {
   "cell_type": "code",
   "execution_count": null,
   "metadata": {},
   "outputs": [],
   "source": [
    "from IPython.display import display, HTML\n",
    "pd.options.display.float_format = '{:.4f}'.format\n",
    "final_report = pd.DataFrame(knnReport+LinearRegReport+ridge_report+lasso_report+poly_report+linsvr_report,columns=['Regression Task', 'Parameter','Train Score', 'Test Score'],index=range(1,7))\n",
    "final_report"
   ]
  },
  {
   "cell_type": "markdown",
   "metadata": {},
   "source": [
    "# Neural - Deep Learning"
   ]
  },
  {
   "cell_type": "code",
   "execution_count": null,
   "metadata": {},
   "outputs": [],
   "source": [
    "import numpy as np\n",
    "from sklearn.model_selection import GridSearchCV\n",
    "from keras.models import Sequential\n",
    "from keras.layers import Dense\n",
    "from keras.wrappers.scikit_learn import KerasRegressor"
   ]
  },
  {
   "cell_type": "code",
   "execution_count": null,
   "metadata": {},
   "outputs": [],
   "source": [
    "def create_model():\n",
    "    #create model\n",
    "    model = Sequential()\n",
    "    model.add(Dense(2, input_dim=77, activation='relu'))\n",
    "    model.add(Dense(1, activation='sigmoid'))\n",
    "    #compile model\n",
    "    model.compile(loss='binary_crossentropy', optimizer='adam', metrics=['accuracy'])\n",
    "    return model\n",
    "\n",
    "seed = 10\n",
    "np.random.seed(10)\n",
    "\n",
    "model = KerasRegressor(build_fn = create_model, verbose = 0)\n",
    "\n",
    "param_grid = {'batch_size':[10,20] , 'epochs':[10, 50]}\n",
    "grid_search = GridSearchCV(estimator= model, param_grid = param_grid, cv = 5)\n",
    "\n",
    "grid_search_result = grid_search.fit(X_train, y_train)"
   ]
  },
  {
   "cell_type": "code",
   "execution_count": null,
   "metadata": {},
   "outputs": [],
   "source": [
    "print(grid_search_result.best_score_)"
   ]
  },
  {
   "cell_type": "code",
   "execution_count": null,
   "metadata": {},
   "outputs": [],
   "source": [
    "print(grid_search.best_params_)"
   ]
  },
  {
   "cell_type": "code",
   "execution_count": null,
   "metadata": {},
   "outputs": [],
   "source": []
  }
 ],
 "metadata": {
  "kernelspec": {
   "display_name": "Python 3",
   "language": "python",
   "name": "python3"
  },
  "language_info": {
   "codemirror_mode": {
    "name": "ipython",
    "version": 3
   },
   "file_extension": ".py",
   "mimetype": "text/x-python",
   "name": "python",
   "nbconvert_exporter": "python",
   "pygments_lexer": "ipython3",
   "version": "3.7.2"
  }
 },
 "nbformat": 4,
 "nbformat_minor": 2
}
